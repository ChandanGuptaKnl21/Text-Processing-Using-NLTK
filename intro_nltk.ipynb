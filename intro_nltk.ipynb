{
 "cells": [
  {
   "cell_type": "code",
   "execution_count": 2,
   "id": "3f70557c",
   "metadata": {},
   "outputs": [
    {
     "name": "stdout",
     "output_type": "stream",
     "text": [
      "Collecting seaborn\n",
      "  Downloading seaborn-0.12.2-py3-none-any.whl (293 kB)\n",
      "     -------------------------------------- 293.3/293.3 kB 2.3 MB/s eta 0:00:00\n",
      "Requirement already satisfied: matplotlib!=3.6.1,>=3.1 in c:\\users\\heena\\appdata\\local\\packages\\pythonsoftwarefoundation.python.3.10_qbz5n2kfra8p0\\localcache\\local-packages\\python310\\site-packages (from seaborn) (3.6.2)\n",
      "Requirement already satisfied: pandas>=0.25 in c:\\users\\heena\\appdata\\local\\packages\\pythonsoftwarefoundation.python.3.10_qbz5n2kfra8p0\\localcache\\local-packages\\python310\\site-packages (from seaborn) (1.5.2)\n",
      "Requirement already satisfied: numpy!=1.24.0,>=1.17 in c:\\users\\heena\\appdata\\local\\packages\\pythonsoftwarefoundation.python.3.10_qbz5n2kfra8p0\\localcache\\local-packages\\python310\\site-packages (from seaborn) (1.23.5)\n",
      "Requirement already satisfied: contourpy>=1.0.1 in c:\\users\\heena\\appdata\\local\\packages\\pythonsoftwarefoundation.python.3.10_qbz5n2kfra8p0\\localcache\\local-packages\\python310\\site-packages (from matplotlib!=3.6.1,>=3.1->seaborn) (1.0.6)\n",
      "Requirement already satisfied: cycler>=0.10 in c:\\users\\heena\\appdata\\local\\packages\\pythonsoftwarefoundation.python.3.10_qbz5n2kfra8p0\\localcache\\local-packages\\python310\\site-packages (from matplotlib!=3.6.1,>=3.1->seaborn) (0.11.0)\n",
      "Requirement already satisfied: kiwisolver>=1.0.1 in c:\\users\\heena\\appdata\\local\\packages\\pythonsoftwarefoundation.python.3.10_qbz5n2kfra8p0\\localcache\\local-packages\\python310\\site-packages (from matplotlib!=3.6.1,>=3.1->seaborn) (1.4.4)\n",
      "Requirement already satisfied: packaging>=20.0 in c:\\users\\heena\\appdata\\local\\packages\\pythonsoftwarefoundation.python.3.10_qbz5n2kfra8p0\\localcache\\local-packages\\python310\\site-packages (from matplotlib!=3.6.1,>=3.1->seaborn) (21.3)\n",
      "Requirement already satisfied: pyparsing>=2.2.1 in c:\\users\\heena\\appdata\\local\\packages\\pythonsoftwarefoundation.python.3.10_qbz5n2kfra8p0\\localcache\\local-packages\\python310\\site-packages (from matplotlib!=3.6.1,>=3.1->seaborn) (3.0.9)\n",
      "Requirement already satisfied: pillow>=6.2.0 in c:\\users\\heena\\appdata\\local\\packages\\pythonsoftwarefoundation.python.3.10_qbz5n2kfra8p0\\localcache\\local-packages\\python310\\site-packages (from matplotlib!=3.6.1,>=3.1->seaborn) (9.3.0)\n",
      "Requirement already satisfied: python-dateutil>=2.7 in c:\\users\\heena\\appdata\\local\\packages\\pythonsoftwarefoundation.python.3.10_qbz5n2kfra8p0\\localcache\\local-packages\\python310\\site-packages (from matplotlib!=3.6.1,>=3.1->seaborn) (2.8.2)\n",
      "Requirement already satisfied: fonttools>=4.22.0 in c:\\users\\heena\\appdata\\local\\packages\\pythonsoftwarefoundation.python.3.10_qbz5n2kfra8p0\\localcache\\local-packages\\python310\\site-packages (from matplotlib!=3.6.1,>=3.1->seaborn) (4.38.0)\n",
      "Requirement already satisfied: pytz>=2020.1 in c:\\users\\heena\\appdata\\local\\packages\\pythonsoftwarefoundation.python.3.10_qbz5n2kfra8p0\\localcache\\local-packages\\python310\\site-packages (from pandas>=0.25->seaborn) (2022.6)\n",
      "Requirement already satisfied: six>=1.5 in c:\\users\\heena\\appdata\\local\\packages\\pythonsoftwarefoundation.python.3.10_qbz5n2kfra8p0\\localcache\\local-packages\\python310\\site-packages (from python-dateutil>=2.7->matplotlib!=3.6.1,>=3.1->seaborn) (1.16.0)\n",
      "Installing collected packages: seaborn\n",
      "Successfully installed seaborn-0.12.2\n",
      "Note: you may need to restart the kernel to use updated packages.\n"
     ]
    },
    {
     "name": "stderr",
     "output_type": "stream",
     "text": [
      "\n",
      "[notice] A new release of pip available: 22.3.1 -> 23.1\n",
      "[notice] To update, run: C:\\Users\\heena\\AppData\\Local\\Microsoft\\WindowsApps\\PythonSoftwareFoundation.Python.3.10_qbz5n2kfra8p0\\python.exe -m pip install --upgrade pip\n"
     ]
    },
    {
     "name": "stdout",
     "output_type": "stream",
     "text": [
      "Collecting nltkNote: you may need to restart the kernel to use updated packages.\n"
     ]
    },
    {
     "name": "stderr",
     "output_type": "stream",
     "text": [
      "\n",
      "[notice] A new release of pip available: 22.3.1 -> 23.1\n",
      "[notice] To update, run: C:\\Users\\heena\\AppData\\Local\\Microsoft\\WindowsApps\\PythonSoftwareFoundation.Python.3.10_qbz5n2kfra8p0\\python.exe -m pip install --upgrade pip\n"
     ]
    },
    {
     "name": "stdout",
     "output_type": "stream",
     "text": [
      "\n",
      "  Downloading nltk-3.8.1-py3-none-any.whl (1.5 MB)\n",
      "     ---------------------------------------- 1.5/1.5 MB 10.7 MB/s eta 0:00:00\n",
      "Requirement already satisfied: tqdm in c:\\users\\heena\\appdata\\local\\packages\\pythonsoftwarefoundation.python.3.10_qbz5n2kfra8p0\\localcache\\local-packages\\python310\\site-packages (from nltk) (4.64.1)\n",
      "Requirement already satisfied: click in c:\\users\\heena\\appdata\\local\\packages\\pythonsoftwarefoundation.python.3.10_qbz5n2kfra8p0\\localcache\\local-packages\\python310\\site-packages (from nltk) (8.1.3)\n",
      "Requirement already satisfied: joblib in c:\\users\\heena\\appdata\\local\\packages\\pythonsoftwarefoundation.python.3.10_qbz5n2kfra8p0\\localcache\\local-packages\\python310\\site-packages (from nltk) (1.2.0)\n",
      "Collecting regex>=2021.8.3\n",
      "  Downloading regex-2023.3.23-cp310-cp310-win_amd64.whl (267 kB)\n",
      "     ------------------------------------- 267.9/267.9 kB 16.1 MB/s eta 0:00:00\n",
      "Requirement already satisfied: colorama in c:\\users\\heena\\appdata\\local\\packages\\pythonsoftwarefoundation.python.3.10_qbz5n2kfra8p0\\localcache\\local-packages\\python310\\site-packages (from click->nltk) (0.4.6)\n",
      "Installing collected packages: regex, nltk\n",
      "Successfully installed nltk-3.8.1 regex-2023.3.23\n"
     ]
    }
   ],
   "source": [
    "%pip install seaborn\n",
    "%pip install nltk"
   ]
  },
  {
   "cell_type": "code",
   "execution_count": 3,
   "id": "4012b267",
   "metadata": {},
   "outputs": [
    {
     "name": "stderr",
     "output_type": "stream",
     "text": [
      "Matplotlib is building the font cache; this may take a moment.\n"
     ]
    }
   ],
   "source": [
    "import numpy as np\n",
    "import seaborn as sns\n",
    "import pandas as pd\n",
    "import matplotlib.pyplot as plt\n",
    "\n",
    "from sklearn.feature_extraction.text import CountVectorizer "
   ]
  },
  {
   "cell_type": "code",
   "execution_count": 114,
   "id": "cbbc6c35",
   "metadata": {},
   "outputs": [],
   "source": [
    "import nltk \n"
   ]
  },
  {
   "cell_type": "code",
   "execution_count": 4,
   "id": "45656f49",
   "metadata": {},
   "outputs": [
    {
     "name": "stderr",
     "output_type": "stream",
     "text": [
      "[nltk_data] Downloading package stopwords to\n",
      "[nltk_data]     C:\\Users\\heena\\AppData\\Roaming\\nltk_data...\n",
      "[nltk_data]   Unzipping corpora\\stopwords.zip.\n",
      "[nltk_data] Downloading package punkt to\n",
      "[nltk_data]     C:\\Users\\heena\\AppData\\Roaming\\nltk_data...\n",
      "[nltk_data]   Unzipping tokenizers\\punkt.zip.\n",
      "[nltk_data] Downloading package wordnet to\n",
      "[nltk_data]     C:\\Users\\heena\\AppData\\Roaming\\nltk_data...\n",
      "[nltk_data] Downloading package omw-1.4 to\n",
      "[nltk_data]     C:\\Users\\heena\\AppData\\Roaming\\nltk_data...\n",
      "[nltk_data] Downloading package names to\n",
      "[nltk_data]     C:\\Users\\heena\\AppData\\Roaming\\nltk_data...\n",
      "[nltk_data]   Unzipping corpora\\names.zip.\n",
      "[nltk_data] Downloading package state_union to\n",
      "[nltk_data]     C:\\Users\\heena\\AppData\\Roaming\\nltk_data...\n",
      "[nltk_data]   Unzipping corpora\\state_union.zip.\n",
      "[nltk_data] Downloading package twitter_samples to\n",
      "[nltk_data]     C:\\Users\\heena\\AppData\\Roaming\\nltk_data...\n",
      "[nltk_data]   Unzipping corpora\\twitter_samples.zip.\n",
      "[nltk_data] Downloading package movie_reviews to\n",
      "[nltk_data]     C:\\Users\\heena\\AppData\\Roaming\\nltk_data...\n",
      "[nltk_data]   Unzipping corpora\\movie_reviews.zip.\n",
      "[nltk_data] Downloading package averaged_perceptron_tagger to\n",
      "[nltk_data]     C:\\Users\\heena\\AppData\\Roaming\\nltk_data...\n",
      "[nltk_data]   Unzipping taggers\\averaged_perceptron_tagger.zip.\n",
      "[nltk_data] Downloading package vader_lexicon to\n",
      "[nltk_data]     C:\\Users\\heena\\AppData\\Roaming\\nltk_data...\n"
     ]
    },
    {
     "data": {
      "text/plain": [
       "True"
      ]
     },
     "execution_count": 4,
     "metadata": {},
     "output_type": "execute_result"
    }
   ],
   "source": [
    "# pip install nltk\n",
    "import nltk \n",
    "from nltk import word_tokenize\n",
    "from nltk.corpus import stopwords\n",
    "from nltk.stem import PorterStemmer\n",
    "from nltk.stem import WordNetLemmatizer # Word net is a corpus of root words in its simplest form \n",
    "\n",
    "nltk.download('stopwords') # Installs the Corpus (collection) of common words   \n",
    "nltk.download('punkt') #tokenizer method which uses unsupervised algorithm to create word into tokens\n",
    "nltk.download('wordnet')\n",
    "nltk.download('omw-1.4')\n",
    "nltk.download([\"names\", \"brown\", \"twitter_samples\",\n",
    "               \"movie_reviews\", \"averaged_perceptron_tagger\", \"vader_lexicon\",])"
   ]
  },
  {
   "cell_type": "markdown",
   "id": "8ea7e015",
   "metadata": {},
   "source": [
    "## Different Tokenizers"
   ]
  },
  {
   "cell_type": "code",
   "execution_count": 30,
   "id": "a0ed54bf",
   "metadata": {},
   "outputs": [
    {
     "data": {
      "text/plain": [
       "['Good muffins cost $3.88\\nin New York.',\n",
       " 'Please buy me \\n two of them.',\n",
       " 'Thanks.']"
      ]
     },
     "execution_count": 30,
     "metadata": {},
     "output_type": "execute_result"
    }
   ],
   "source": [
    "#Sentence Tokenizer\n",
    "from nltk.tokenize import sent_tokenize\n",
    "s = '''Good muffins cost $3.88\\nin New York.  Please buy me \\n two of them.\\n\\nThanks.'''\n",
    "sent_tokenize(s) "
   ]
  },
  {
   "cell_type": "code",
   "execution_count": 31,
   "id": "98a628b7",
   "metadata": {},
   "outputs": [
    {
     "name": "stdout",
     "output_type": "stream",
     "text": [
      "['Good', 'muffins', 'cost', '$', '3.88', 'in', 'New', 'York', '.', 'Please', 'buy', 'me', 'two', 'of', 'them', '.', 'Thanks', '.']\n",
      "['Good', 'muffins', 'cost', '$', '3.88', 'in', 'New', 'York.', 'Please', 'buy', 'me', 'two', 'of', 'them.', 'Thanks', '.']\n",
      "['Good', 'muffins', 'cost', '$3.88', 'in', 'New', 'York.', 'Please', 'buy', 'me', 'two', 'of', 'them.', 'Thanks.']\n",
      "['https', ':', '//t.co/9z2J3P33Uc', 'FB', 'needs', 'to', 'hurry', 'up', 'and', 'add', 'a', 'laugh/cry', 'button', '😬😭😓🤢🙄😱', 'Since', 'eating', 'my', 'feelings', 'has', 'not', 'fixed', 'the', 'world', \"'s\", 'problems', ',', 'I', 'guess', 'I', \"'ll\", 'try', 'to', 'sleep', '...', 'HOLY', 'CRAP', ':', 'DeVos', 'questionnaire', 'appears', 'to', 'include', 'passages', 'from', 'uncited', 'sources', 'https', ':', '//t.co/FNRoOlfw9s', 'well', 'played', ',', 'Senator', 'Murray', 'Keep', 'the', 'pressure', 'on', ':', 'https', ':', '//t.co/4hfOsmdk0l', '@', 'datageneral', 'thx', 'Mr', 'Taussig', 'It', \"'s\", 'interesting', 'how', 'many', 'people', 'contact', 'me', 'about', 'applying', 'for', 'a', 'PhD', 'and', 'do', \"n't\", 'spell', 'my', 'name', 'right', '#', 'facebook', '#', 'crap', '#', 'devops', '#', 'SenatorMurray']\n",
      "['https://t.co/9z2J3P33Uc', 'FB', 'needs', 'to', 'hurry', 'up', 'and', 'add', 'a', 'laugh', '/', 'cry', 'button', '😬', '😭', '😓', '🤢', '🙄', '😱', 'Since', 'eating', 'my', 'feelings', 'has', 'not', 'fixed', 'the', \"world's\", 'problems', ',', 'I', 'guess', \"I'll\", 'try', 'to', 'sleep', '...', 'HOLY', 'CRAP', ':', 'DeVos', 'questionnaire', 'appears', 'to', 'include', 'passages', 'from', 'uncited', 'sources', 'https://t.co/FNRoOlfw9s', 'well', 'played', ',', 'Senator', 'Murray', 'Keep', 'the', 'pressure', 'on', ':', 'https://t.co/4hfOsmdk0l', '@datageneral', 'thx', 'Mr', 'Taussig', \"It's\", 'interesting', 'how', 'many', 'people', 'contact', 'me', 'about', 'applying', 'for', 'a', 'PhD', 'and', \"don't\", 'spell', 'my', 'name', 'right', '#facebook', '#crap', '#devops', '#SenatorMurray']\n"
     ]
    }
   ],
   "source": [
    "#word tokenizers\n",
    "from nltk.tokenize import word_tokenize\n",
    "s = '''Good muffins cost $3.88\\nin New York.  Please buy me two of them.\\n\\nThanks.'''\n",
    "print(word_tokenize(s)) \n",
    "\n",
    "from nltk.tokenize import TreebankWordTokenizer\n",
    "treebankWordTokenizer = TreebankWordTokenizer()\n",
    "print(treebankWordTokenizer.tokenize(s))\n",
    "\n",
    "from nltk.tokenize import WhitespaceTokenizer\n",
    "whitespaceTokenizer = WhitespaceTokenizer()\n",
    "print(whitespaceTokenizer.tokenize(s))\n",
    "\n",
    "\n",
    "s = '''https://t.co/9z2J3P33Uc FB needs to hurry up \n",
    "and add a laugh/cry button 😬😭😓🤢🙄😱\n",
    "Since eating my feelings has not fixed the world's problems,\n",
    "I guess I'll try to sleep...\n",
    "HOLY CRAP: DeVos questionnaire appears to include passages\n",
    "from uncited sources https://t.co/FNRoOlfw9s well played,\n",
    "Senator Murray Keep the pressure on: https://t.co/4hfOsmdk0l \n",
    "@datageneral thx Mr Taussig \n",
    "It's interesting how many people contact me about applying for a PhD \n",
    "and don't spell my name right #facebook #crap #devops #SenatorMurray'''\n",
    "\n",
    "print(word_tokenize(s)) \n",
    "\n",
    "from nltk.tokenize import TweetTokenizer\n",
    "tweetTokenizer = TweetTokenizer()\n",
    "print(tweetTokenizer.tokenize(s))"
   ]
  },
  {
   "cell_type": "markdown",
   "id": "6dd47b00",
   "metadata": {},
   "source": [
    "## Stemming"
   ]
  },
  {
   "cell_type": "markdown",
   "id": "8e640831",
   "metadata": {},
   "source": [
    "#### Stemming helps us reduce words to their core or base form,\n",
    "which can be useful in various applications such as information retrieval, \n",
    "text analysis, and language processing.\n",
    "It's a handy tool for simplifying words and understanding their fundamental meaning.\n",
    "\n",
    "words are modified to communicate many grammatical categories, including tense, case, voice, aspect, person, number, gender, and mood. Thus, although a word may exist in several forms, having multiple  forms inside the same text adds redundancy to the NLP process"
   ]
  },
  {
   "cell_type": "code",
   "execution_count": 39,
   "id": "571f6256",
   "metadata": {},
   "outputs": [
    {
     "name": "stdout",
     "output_type": "stream",
     "text": [
      "caress fli die mule deni die agre own humbl size meet state siez item sensat tradit refer colon plot\n"
     ]
    }
   ],
   "source": [
    "from nltk.stem import *\n",
    "from nltk.stem.porter import *\n",
    "stemmer = PorterStemmer()\n",
    "plurals = ['caresses', 'flies', 'dies', 'mules', 'denied',\n",
    "    'died', 'agreed', 'owned', 'humbled', 'sized',\n",
    "    'meeting', 'stating', 'siezing', 'itemization',\n",
    "    'sensational', 'traditional', 'reference', 'colonizer',\n",
    "    'plotted']\n",
    "singles = [stemmer.stem(plural) for plural in plurals]\n",
    "print(' '.join(singles))"
   ]
  },
  {
   "cell_type": "code",
   "execution_count": 40,
   "id": "1a60566c",
   "metadata": {},
   "outputs": [
    {
     "name": "stdout",
     "output_type": "stream",
     "text": [
      "arabic danish dutch english finnish french german hungarian italian norwegian porter portuguese romanian russian spanish swedish\n"
     ]
    }
   ],
   "source": [
    "from nltk.stem.snowball import SnowballStemmer\n",
    "print(\" \".join(SnowballStemmer.languages))"
   ]
  },
  {
   "cell_type": "code",
   "execution_count": 41,
   "id": "33665cbb",
   "metadata": {},
   "outputs": [
    {
     "name": "stdout",
     "output_type": "stream",
     "text": [
      "run\n"
     ]
    }
   ],
   "source": [
    "stemmer = SnowballStemmer(\"english\")\n",
    "print(stemmer.stem(\"running\"))"
   ]
  },
  {
   "cell_type": "code",
   "execution_count": 42,
   "id": "3a8591c4",
   "metadata": {},
   "outputs": [
    {
     "name": "stdout",
     "output_type": "stream",
     "text": [
      "en voyag\n"
     ]
    }
   ],
   "source": [
    "stemmer2 = SnowballStemmer(\"french\")\n",
    "print(stemmer.stem(\"en voyageant\"))"
   ]
  },
  {
   "cell_type": "code",
   "execution_count": 44,
   "id": "b06f09ed",
   "metadata": {},
   "outputs": [
    {
     "name": "stdout",
     "output_type": "stream",
     "text": [
      "ich reis\n"
     ]
    }
   ],
   "source": [
    "stemmer3 = SnowballStemmer(\"german\")\n",
    "print(stemmer.stem(\"Ich reise\"))"
   ]
  },
  {
   "cell_type": "code",
   "execution_count": 45,
   "id": "592f214f",
   "metadata": {},
   "outputs": [
    {
     "name": "stdout",
     "output_type": "stream",
     "text": [
      "better\n"
     ]
    }
   ],
   "source": [
    "stemmer = SnowballStemmer(\"english\")\n",
    "print(stemmer.stem(\"better\"))"
   ]
  },
  {
   "cell_type": "code",
   "execution_count": 48,
   "id": "53cad5c5",
   "metadata": {},
   "outputs": [
    {
     "name": "stdout",
     "output_type": "stream",
     "text": [
      "mice\n"
     ]
    }
   ],
   "source": [
    "stemmer = SnowballStemmer(\"english\")\n",
    "print(stemmer.stem(\"mice\"))"
   ]
  },
  {
   "cell_type": "markdown",
   "id": "cf762a33",
   "metadata": {},
   "source": [
    "## Lemmatisation"
   ]
  },
  {
   "cell_type": "markdown",
   "id": "9382f7d4",
   "metadata": {},
   "source": [
    "#### Lemmatization is a bit like finding the \"dictionary form\" of a word.\n",
    "It's like when you look up a word in a dictionary, \n",
    "and you see the word in its base or simplest form,\n",
    "without any prefixes or suffixes. That's what lemmatization does for words!\n",
    "\n",
    "In English, words can have different forms,\n",
    "like \"go\", \"going\", and \"went\". But they all share a common base form,\n",
    "which is \"go\". \n",
    "Lemmatization is the process of reducing words to their base or dictionary form, \n",
    "known as the \"lemma\", so that we can group similar words together \n",
    "and understand their core meaning.\n",
    "\n",
    "For example, if we have the words \"go\", \"going\", and \"went\", \n",
    "after lemmatization, they would all become \"go\". \n",
    "It's like finding the main entry in a dictionary for a word, so we can understand its basic meaning without worrying about the extra details.\n",
    "\n",
    "Lemmatization takes into account the grammatical rules of a language to ensure that the resulting lemma is a valid word. For instance, it would correctly identify that the lemma of \"better\" is \"good\", and the lemma of \"mice\" is \"mouse\". It's a powerful tool used in natural language processing to normalize words and reduce them to their base or canonical form for various language analysis tasks."
   ]
  },
  {
   "cell_type": "code",
   "execution_count": 52,
   "id": "306e2afa",
   "metadata": {},
   "outputs": [
    {
     "name": "stdout",
     "output_type": "stream",
     "text": [
      "cat\n",
      "cactus\n",
      "goose\n",
      "rock\n",
      "python\n",
      "good\n",
      "best\n",
      "run\n"
     ]
    }
   ],
   "source": [
    "from nltk.stem import WordNetLemmatizer\n",
    "\n",
    "lemmatizer = WordNetLemmatizer()\n",
    "\n",
    "print(lemmatizer.lemmatize(\"cats\"))\n",
    "print(lemmatizer.lemmatize(\"cacti\"))\n",
    "print(lemmatizer.lemmatize(\"geese\"))\n",
    "print(lemmatizer.lemmatize(\"rocks\"))\n",
    "print(lemmatizer.lemmatize(\"python\"))\n",
    "print(lemmatizer.lemmatize(\"better\", pos=\"a\"))\n",
    "print(lemmatizer.lemmatize(\"best\", pos=\"a\"))\n",
    "print(lemmatizer.lemmatize(\"ran\", pos=\"v\"))"
   ]
  },
  {
   "cell_type": "markdown",
   "id": "7bbdce4f",
   "metadata": {},
   "source": [
    "## Lemmatisation vs Stemming"
   ]
  },
  {
   "cell_type": "markdown",
   "id": "da8ee531",
   "metadata": {},
   "source": [
    "#### Lemmatization and stemming are both techniques used in natural language processing to reduce words to their base or canonical form, but they have some differences:\n",
    "\n",
    "1. Word Accuracy: Lemmatization typically produces a more accurate base form or lemma compared to stemming. This is because lemmatization takes into account the grammatical rules of a language, whereas stemming simply removes prefixes or suffixes from words. As a result, lemmatization tends to produce valid words that can be found in a dictionary, while stemming may sometimes produce truncated or non-words.\n",
    "\n",
    "2. Base Form: Lemmatization produces the actual base or dictionary form of a word, known as the lemma. For example, the lemma of \"better\" is \"good\", and the lemma of \"mice\" is \"mouse\". On the other hand, stemming produces a truncated version of a word by removing prefixes or suffixes, which may not always result in a valid word. For example, the stem of \"running\" is \"run\", but \"run\" is a valid word, whereas \"runn\" is not.\n",
    "\n",
    "3. Language Rules: Lemmatization takes into account the specific grammatical rules of a language, such as verb conjugation and noun plurals, to produce the correct base form. Stemming, on the other hand, simply applies a set of predefined rules or patterns to strip off prefixes or suffixes, which may not always result in the correct base form.\n",
    "\n",
    "4. Output: Lemmatization generally produces fewer word forms compared to stemming, as it aims to reduce words to their common base form. Stemming, on the other hand, may produce multiple word forms as it applies a set of rules to strip off prefixes or suffixes without considering the context or meaning of the word.\n",
    "\n",
    "5. Application: Lemmatization is often preferred in applications where accurate base forms are required, such as information retrieval, machine translation, and sentiment analysis. Stemming, on the other hand, may be used in applications where word reduction is desired for tasks like text classification, information retrieval with fuzzy matching, or for building search engine indexes.\n",
    "\n",
    "In summary, lemmatization and stemming are techniques used to reduce words to their base or canonical form, but lemmatization tends to produce more accurate base forms by considering the grammatical rules of a language, while stemming may produce truncated word forms without considering language rules. The choice between lemmatization and stemming depends on the specific requirements and context of the application being used."
   ]
  },
  {
   "cell_type": "markdown",
   "id": "6c4b0618",
   "metadata": {},
   "source": [
    "## Part of Speech Tagging"
   ]
  },
  {
   "cell_type": "code",
   "execution_count": 69,
   "id": "b0dd3a92",
   "metadata": {},
   "outputs": [
    {
     "data": {
      "text/plain": [
       "[('NN', 327),\n",
       " ('AT', 217),\n",
       " ('IN', 203),\n",
       " ('NNS', 119),\n",
       " ('NP', 105),\n",
       " ('.', 88),\n",
       " ('JJ', 87),\n",
       " (',', 87),\n",
       " ('NN-TL', 82),\n",
       " ('VBD', 75)]"
      ]
     },
     "execution_count": 69,
     "metadata": {},
     "output_type": "execute_result"
    }
   ],
   "source": [
    "from nltk.corpus import brown\n",
    "brown_news_tagged = brown.tagged_words(\"ca01\")\n",
    "tag_fd = nltk.FreqDist(tag for (word, tag) in brown_news_tagged)\n",
    "tag_fd.most_common(10)"
   ]
  },
  {
   "cell_type": "code",
   "execution_count": 66,
   "id": "e3e00950",
   "metadata": {},
   "outputs": [
    {
     "data": {
      "text/plain": [
       "[('We', 'PRP'),\n",
       " ('are', 'VBP'),\n",
       " ('going', 'VBG'),\n",
       " ('together', 'RB'),\n",
       " ('for', 'IN'),\n",
       " ('a', 'DT'),\n",
       " ('walk', 'NN')]"
      ]
     },
     "execution_count": 66,
     "metadata": {},
     "output_type": "execute_result"
    }
   ],
   "source": [
    "text = word_tokenize(\"We are going together for a walk\")\n",
    "nltk.pos_tag(text)"
   ]
  },
  {
   "cell_type": "markdown",
   "id": "5ea8c6b8",
   "metadata": {},
   "source": [
    "## Sentiment Analysis"
   ]
  },
  {
   "cell_type": "code",
   "execution_count": 91,
   "id": "06fb0f30",
   "metadata": {},
   "outputs": [
    {
     "name": "stdout",
     "output_type": "stream",
     "text": [
      "[['Quality', 'is', 'nice', '.'], ['It', 'is', 'just', 'too', 'good'], ['Worth', 'for', 'the', 'price'], ['Defective', 'product'], ['Received', 'wrong', 'color'], ['Bad', 'quality', 'of', 'the', 'fabric']]\n"
     ]
    }
   ],
   "source": [
    "sentences = [\"Quality is nice.\", \"It is just too good\", \"Worth for the price\",\n",
    "         \"Defective product\", \"Received wrong color\", \"Bad quality of the fabric\"]\n",
    "\n",
    "docs = [word_tokenize(sent) for sent in sentences]\n",
    "print(docs)"
   ]
  },
  {
   "cell_type": "code",
   "execution_count": 92,
   "id": "47d22157",
   "metadata": {},
   "outputs": [
    {
     "name": "stdout",
     "output_type": "stream",
     "text": [
      "[['quality', 'is', 'nice', '.'], ['it', 'is', 'just', 'too', 'good'], ['worth', 'for', 'the', 'price'], ['defective', 'product'], ['received', 'wrong', 'color'], ['bad', 'quality', 'of', 'the', 'fabric']]\n"
     ]
    }
   ],
   "source": [
    "docs = [[word.lower() for word in doc] for doc in docs]\n",
    "print(docs)"
   ]
  },
  {
   "cell_type": "code",
   "execution_count": 93,
   "id": "3a42910f",
   "metadata": {},
   "outputs": [
    {
     "name": "stdout",
     "output_type": "stream",
     "text": [
      "[['qualiti', 'is', 'nice', '.'], ['it', 'is', 'just', 'too', 'good'], ['worth', 'for', 'the', 'price'], ['defect', 'product'], ['receiv', 'wrong', 'color'], ['bad', 'qualiti', 'of', 'the', 'fabric']]\n"
     ]
    }
   ],
   "source": [
    "stemmer = PorterStemmer()\n",
    "docs = [[stemmer.stem(word) for word in doc] for doc in docs]\n",
    "print(docs)"
   ]
  },
  {
   "cell_type": "code",
   "execution_count": 94,
   "id": "62e21c28",
   "metadata": {},
   "outputs": [
    {
     "name": "stdout",
     "output_type": "stream",
     "text": [
      "[['qualiti', 'nice'], ['good'], ['worth', 'price'], ['defect', 'product'], ['receiv', 'wrong', 'color'], ['bad', 'qualiti', 'fabric']]\n"
     ]
    }
   ],
   "source": [
    "stop_w = stopwords.words('english') # We will only consider english words\n",
    "stop_w.append(\".\")\n",
    "docs = [[stemmer.stem(word) for word in doc if word not in stop_w] for doc in docs]\n",
    "print(docs)"
   ]
  },
  {
   "cell_type": "code",
   "execution_count": 95,
   "id": "edb98bdb",
   "metadata": {},
   "outputs": [
    {
     "name": "stdout",
     "output_type": "stream",
     "text": [
      "Vocabulary: {'product', 'bad', 'good', 'qualiti', 'defect', 'price', 'color', 'fabric', 'worth', 'wrong', 'receiv', 'nice'}\n"
     ]
    }
   ],
   "source": [
    "def compute_vocabulary(docs):\n",
    "    vocabulary = set()\n",
    "    for doc in docs:\n",
    "        vocabulary.update(doc)\n",
    "    return vocabulary\n",
    "vocabulary = compute_vocabulary(docs)\n",
    "print(\"Vocabulary:\", vocabulary)"
   ]
  },
  {
   "cell_type": "code",
   "execution_count": 109,
   "id": "84771984",
   "metadata": {},
   "outputs": [],
   "source": [
    "def find_inverse_vocab(vocabulary):\n",
    "    inv_vocab = {}\n",
    "    for item in vocabulary:\n",
    "        inv_vocab[vocabulary[item]] = item\n",
    "    return inv_vocab"
   ]
  },
  {
   "cell_type": "code",
   "execution_count": null,
   "id": "1963240f",
   "metadata": {},
   "outputs": [],
   "source": [
    "documents = [\" \".join(doc) for doc in docs]\n",
    "vectorizer = CountVectorizer()\n",
    "vectorizer.fit(documents)\n",
    "print(vectorizer.vocabulary_)"
   ]
  },
  {
   "cell_type": "code",
   "execution_count": null,
   "id": "c07aa58a",
   "metadata": {},
   "outputs": [],
   "source": [
    "inv_vocab = find_inverse_vocab(vectorizer.vocabulary_)\n",
    "print(inv_vocab)"
   ]
  },
  {
   "cell_type": "code",
   "execution_count": null,
   "id": "e13a0e08",
   "metadata": {},
   "outputs": [],
   "source": [
    "features = vectorizer.transform(documents)\n",
    "print(features.toarray())"
   ]
  },
  {
   "cell_type": "code",
   "execution_count": 113,
   "id": "f47c16e9",
   "metadata": {},
   "outputs": [
    {
     "name": "stdout",
     "output_type": "stream",
     "text": [
      "{'qualiti': 8, 'nice': 5, 'good': 4, 'worth': 10, 'price': 6, 'defect': 2, 'product': 7, 'receiv': 9, 'wrong': 11, 'color': 1, 'bad': 0, 'fabric': 3}\n",
      "{8: 'qualiti', 5: 'nice', 4: 'good', 10: 'worth', 6: 'price', 2: 'defect', 7: 'product', 9: 'receiv', 11: 'wrong', 1: 'color', 0: 'bad', 3: 'fabric'}\n",
      "[[0 0 0 0 0 1 0 0 1 0 0 0]\n",
      " [0 0 0 0 1 0 0 0 0 0 0 0]\n",
      " [0 0 0 0 0 0 1 0 0 0 1 0]\n",
      " [0 0 1 0 0 0 0 1 0 0 0 0]\n",
      " [0 1 0 0 0 0 0 0 0 1 0 1]\n",
      " [1 0 0 1 0 0 0 0 1 0 0 0]]\n"
     ]
    },
    {
     "data": {
      "text/html": [
       "<div>\n",
       "<style scoped>\n",
       "    .dataframe tbody tr th:only-of-type {\n",
       "        vertical-align: middle;\n",
       "    }\n",
       "\n",
       "    .dataframe tbody tr th {\n",
       "        vertical-align: top;\n",
       "    }\n",
       "\n",
       "    .dataframe thead th {\n",
       "        text-align: right;\n",
       "    }\n",
       "</style>\n",
       "<table border=\"1\" class=\"dataframe\">\n",
       "  <thead>\n",
       "    <tr style=\"text-align: right;\">\n",
       "      <th></th>\n",
       "      <th>bad</th>\n",
       "      <th>color</th>\n",
       "      <th>defect</th>\n",
       "      <th>fabric</th>\n",
       "      <th>good</th>\n",
       "      <th>nice</th>\n",
       "      <th>price</th>\n",
       "      <th>product</th>\n",
       "      <th>qualiti</th>\n",
       "      <th>receiv</th>\n",
       "      <th>worth</th>\n",
       "      <th>wrong</th>\n",
       "    </tr>\n",
       "  </thead>\n",
       "  <tbody>\n",
       "    <tr>\n",
       "      <th>0</th>\n",
       "      <td>0</td>\n",
       "      <td>0</td>\n",
       "      <td>0</td>\n",
       "      <td>0</td>\n",
       "      <td>0</td>\n",
       "      <td>1</td>\n",
       "      <td>0</td>\n",
       "      <td>0</td>\n",
       "      <td>1</td>\n",
       "      <td>0</td>\n",
       "      <td>0</td>\n",
       "      <td>0</td>\n",
       "    </tr>\n",
       "    <tr>\n",
       "      <th>1</th>\n",
       "      <td>0</td>\n",
       "      <td>0</td>\n",
       "      <td>0</td>\n",
       "      <td>0</td>\n",
       "      <td>1</td>\n",
       "      <td>0</td>\n",
       "      <td>0</td>\n",
       "      <td>0</td>\n",
       "      <td>0</td>\n",
       "      <td>0</td>\n",
       "      <td>0</td>\n",
       "      <td>0</td>\n",
       "    </tr>\n",
       "    <tr>\n",
       "      <th>2</th>\n",
       "      <td>0</td>\n",
       "      <td>0</td>\n",
       "      <td>0</td>\n",
       "      <td>0</td>\n",
       "      <td>0</td>\n",
       "      <td>0</td>\n",
       "      <td>1</td>\n",
       "      <td>0</td>\n",
       "      <td>0</td>\n",
       "      <td>0</td>\n",
       "      <td>1</td>\n",
       "      <td>0</td>\n",
       "    </tr>\n",
       "    <tr>\n",
       "      <th>3</th>\n",
       "      <td>0</td>\n",
       "      <td>0</td>\n",
       "      <td>1</td>\n",
       "      <td>0</td>\n",
       "      <td>0</td>\n",
       "      <td>0</td>\n",
       "      <td>0</td>\n",
       "      <td>1</td>\n",
       "      <td>0</td>\n",
       "      <td>0</td>\n",
       "      <td>0</td>\n",
       "      <td>0</td>\n",
       "    </tr>\n",
       "    <tr>\n",
       "      <th>4</th>\n",
       "      <td>0</td>\n",
       "      <td>1</td>\n",
       "      <td>0</td>\n",
       "      <td>0</td>\n",
       "      <td>0</td>\n",
       "      <td>0</td>\n",
       "      <td>0</td>\n",
       "      <td>0</td>\n",
       "      <td>0</td>\n",
       "      <td>1</td>\n",
       "      <td>0</td>\n",
       "      <td>1</td>\n",
       "    </tr>\n",
       "    <tr>\n",
       "      <th>5</th>\n",
       "      <td>1</td>\n",
       "      <td>0</td>\n",
       "      <td>0</td>\n",
       "      <td>1</td>\n",
       "      <td>0</td>\n",
       "      <td>0</td>\n",
       "      <td>0</td>\n",
       "      <td>0</td>\n",
       "      <td>1</td>\n",
       "      <td>0</td>\n",
       "      <td>0</td>\n",
       "      <td>0</td>\n",
       "    </tr>\n",
       "  </tbody>\n",
       "</table>\n",
       "</div>"
      ],
      "text/plain": [
       "   bad  color  defect  fabric  good  nice  price  product  qualiti  receiv  \\\n",
       "0    0      0       0       0     0     1      0        0        1       0   \n",
       "1    0      0       0       0     1     0      0        0        0       0   \n",
       "2    0      0       0       0     0     0      1        0        0       0   \n",
       "3    0      0       1       0     0     0      0        1        0       0   \n",
       "4    0      1       0       0     0     0      0        0        0       1   \n",
       "5    1      0       0       1     0     0      0        0        1       0   \n",
       "\n",
       "   worth  wrong  \n",
       "0      0      0  \n",
       "1      0      0  \n",
       "2      1      0  \n",
       "3      0      0  \n",
       "4      0      1  \n",
       "5      0      0  "
      ]
     },
     "execution_count": 113,
     "metadata": {},
     "output_type": "execute_result"
    }
   ],
   "source": [
    "featuresDf = pd.DataFrame(features.toarray())\n",
    "featuresDf.columns = [inv_vocab[index] for index in range(len(inv_vocab))]\n",
    "featuresDf.head(10)"
   ]
  },
  {
   "cell_type": "markdown",
   "id": "2502f705",
   "metadata": {},
   "source": [
    "## Movie Reviews Dataset"
   ]
  },
  {
   "cell_type": "code",
   "execution_count": 67,
   "id": "f2ec3275",
   "metadata": {},
   "outputs": [
    {
     "data": {
      "text/html": [
       "<div>\n",
       "<style scoped>\n",
       "    .dataframe tbody tr th:only-of-type {\n",
       "        vertical-align: middle;\n",
       "    }\n",
       "\n",
       "    .dataframe tbody tr th {\n",
       "        vertical-align: top;\n",
       "    }\n",
       "\n",
       "    .dataframe thead th {\n",
       "        text-align: right;\n",
       "    }\n",
       "</style>\n",
       "<table border=\"1\" class=\"dataframe\">\n",
       "  <thead>\n",
       "    <tr style=\"text-align: right;\">\n",
       "      <th></th>\n",
       "      <th>Review</th>\n",
       "      <th>Sentiment</th>\n",
       "    </tr>\n",
       "  </thead>\n",
       "  <tbody>\n",
       "    <tr>\n",
       "      <th>0</th>\n",
       "      <td>(plot, :, two, teen, couples, go, to, a, churc...</td>\n",
       "      <td>neg</td>\n",
       "    </tr>\n",
       "    <tr>\n",
       "      <th>1</th>\n",
       "      <td>(the, happy, bastard, ', s, quick, movie, revi...</td>\n",
       "      <td>neg</td>\n",
       "    </tr>\n",
       "    <tr>\n",
       "      <th>2</th>\n",
       "      <td>(it, is, movies, like, these, that, make, a, j...</td>\n",
       "      <td>neg</td>\n",
       "    </tr>\n",
       "    <tr>\n",
       "      <th>3</th>\n",
       "      <td>(\", quest, for, camelot, \", is, warner, bros, ...</td>\n",
       "      <td>neg</td>\n",
       "    </tr>\n",
       "    <tr>\n",
       "      <th>4</th>\n",
       "      <td>(synopsis, :, a, mentally, unstable, man, unde...</td>\n",
       "      <td>neg</td>\n",
       "    </tr>\n",
       "    <tr>\n",
       "      <th>...</th>\n",
       "      <td>...</td>\n",
       "      <td>...</td>\n",
       "    </tr>\n",
       "    <tr>\n",
       "      <th>1995</th>\n",
       "      <td>(wow, !, what, a, movie, ., it, ', s, everythi...</td>\n",
       "      <td>pos</td>\n",
       "    </tr>\n",
       "    <tr>\n",
       "      <th>1996</th>\n",
       "      <td>(richard, gere, can, be, a, commanding, actor,...</td>\n",
       "      <td>pos</td>\n",
       "    </tr>\n",
       "    <tr>\n",
       "      <th>1997</th>\n",
       "      <td>(glory, --, starring, matthew, broderick, ,, d...</td>\n",
       "      <td>pos</td>\n",
       "    </tr>\n",
       "    <tr>\n",
       "      <th>1998</th>\n",
       "      <td>(steven, spielberg, ', s, second, epic, film, ...</td>\n",
       "      <td>pos</td>\n",
       "    </tr>\n",
       "    <tr>\n",
       "      <th>1999</th>\n",
       "      <td>(truman, (, \", true, -, man, \", ), burbank, is...</td>\n",
       "      <td>pos</td>\n",
       "    </tr>\n",
       "  </tbody>\n",
       "</table>\n",
       "<p>2000 rows × 2 columns</p>\n",
       "</div>"
      ],
      "text/plain": [
       "                                                 Review Sentiment\n",
       "0     (plot, :, two, teen, couples, go, to, a, churc...       neg\n",
       "1     (the, happy, bastard, ', s, quick, movie, revi...       neg\n",
       "2     (it, is, movies, like, these, that, make, a, j...       neg\n",
       "3     (\", quest, for, camelot, \", is, warner, bros, ...       neg\n",
       "4     (synopsis, :, a, mentally, unstable, man, unde...       neg\n",
       "...                                                 ...       ...\n",
       "1995  (wow, !, what, a, movie, ., it, ', s, everythi...       pos\n",
       "1996  (richard, gere, can, be, a, commanding, actor,...       pos\n",
       "1997  (glory, --, starring, matthew, broderick, ,, d...       pos\n",
       "1998  (steven, spielberg, ', s, second, epic, film, ...       pos\n",
       "1999  (truman, (, \", true, -, man, \", ), burbank, is...       pos\n",
       "\n",
       "[2000 rows x 2 columns]"
      ]
     },
     "execution_count": 67,
     "metadata": {},
     "output_type": "execute_result"
    }
   ],
   "source": [
    "from nltk.corpus import movie_reviews\n",
    "document = [(movie_reviews.words(file_id),category) \n",
    "            for file_id in movie_reviews.fileids()\n",
    "            for category in movie_reviews.categories(file_id)]\n",
    "df = pd.DataFrame(document)\n",
    "df.columns = [\"Review\", \"Sentiment\"]\n",
    "df"
   ]
  },
  {
   "cell_type": "markdown",
   "id": "c8872e05",
   "metadata": {},
   "source": [
    "## Exercise"
   ]
  },
  {
   "cell_type": "code",
   "execution_count": 33,
   "id": "b926ed91",
   "metadata": {},
   "outputs": [
    {
     "data": {
      "text/html": [
       "<div>\n",
       "<style scoped>\n",
       "    .dataframe tbody tr th:only-of-type {\n",
       "        vertical-align: middle;\n",
       "    }\n",
       "\n",
       "    .dataframe tbody tr th {\n",
       "        vertical-align: top;\n",
       "    }\n",
       "\n",
       "    .dataframe thead th {\n",
       "        text-align: right;\n",
       "    }\n",
       "</style>\n",
       "<table border=\"1\" class=\"dataframe\">\n",
       "  <thead>\n",
       "    <tr style=\"text-align: right;\">\n",
       "      <th></th>\n",
       "      <th>Question Number</th>\n",
       "      <th>Answer</th>\n",
       "      <th>Marks</th>\n",
       "      <th>Correct Answer</th>\n",
       "    </tr>\n",
       "  </thead>\n",
       "  <tbody>\n",
       "    <tr>\n",
       "      <th>8</th>\n",
       "      <td>1.1</td>\n",
       "      <td>Simulating the behavior of only a portion of t...</td>\n",
       "      <td>5.0</td>\n",
       "      <td>To simulate the behaviour of portions of the d...</td>\n",
       "    </tr>\n",
       "    <tr>\n",
       "      <th>99</th>\n",
       "      <td>1.5</td>\n",
       "      <td>An identifier that holds a location in memory.</td>\n",
       "      <td>4.0</td>\n",
       "      <td>A location in memory that can store a value.</td>\n",
       "    </tr>\n",
       "    <tr>\n",
       "      <th>53</th>\n",
       "      <td>1.3</td>\n",
       "      <td>Easier to debugg Reusability</td>\n",
       "      <td>3.0</td>\n",
       "      <td>Abstraction and reusability.</td>\n",
       "    </tr>\n",
       "    <tr>\n",
       "      <th>64</th>\n",
       "      <td>1.3</td>\n",
       "      <td>They make it easier to reuse and adapt previou...</td>\n",
       "      <td>4.5</td>\n",
       "      <td>Abstraction and reusability.</td>\n",
       "    </tr>\n",
       "    <tr>\n",
       "      <th>115</th>\n",
       "      <td>1.6</td>\n",
       "      <td>In the Function main() before using the variable.</td>\n",
       "      <td>3.0</td>\n",
       "      <td>Variables can be declared anywhere in a progra...</td>\n",
       "    </tr>\n",
       "    <tr>\n",
       "      <th>120</th>\n",
       "      <td>1.6</td>\n",
       "      <td>They can be declared globally just before the ...</td>\n",
       "      <td>5.0</td>\n",
       "      <td>Variables can be declared anywhere in a progra...</td>\n",
       "    </tr>\n",
       "    <tr>\n",
       "      <th>66</th>\n",
       "      <td>1.3</td>\n",
       "      <td>Existing classes can be feused, Program mainte...</td>\n",
       "      <td>3.5</td>\n",
       "      <td>Abstraction and reusability.</td>\n",
       "    </tr>\n",
       "    <tr>\n",
       "      <th>104</th>\n",
       "      <td>1.5</td>\n",
       "      <td>A pointer to a location in memory.</td>\n",
       "      <td>4.0</td>\n",
       "      <td>A location in memory that can store a value.</td>\n",
       "    </tr>\n",
       "    <tr>\n",
       "      <th>24</th>\n",
       "      <td>1.2</td>\n",
       "      <td>Verification, coding, refining the solution an...</td>\n",
       "      <td>4.5</td>\n",
       "      <td>The testing stage can influence both the codin...</td>\n",
       "    </tr>\n",
       "    <tr>\n",
       "      <th>5</th>\n",
       "      <td>1.1</td>\n",
       "      <td>To address major issues in the creation of the...</td>\n",
       "      <td>2.5</td>\n",
       "      <td>To simulate the behaviour of portions of the d...</td>\n",
       "    </tr>\n",
       "    <tr>\n",
       "      <th>77</th>\n",
       "      <td>1.4</td>\n",
       "      <td>main</td>\n",
       "      <td>5.0</td>\n",
       "      <td>At the main function.</td>\n",
       "    </tr>\n",
       "    <tr>\n",
       "      <th>47</th>\n",
       "      <td>1.3</td>\n",
       "      <td>The main advantages to object-oriented program...</td>\n",
       "      <td>3.5</td>\n",
       "      <td>Abstraction and reusability.</td>\n",
       "    </tr>\n",
       "    <tr>\n",
       "      <th>136</th>\n",
       "      <td>1.6</td>\n",
       "      <td>variables can be declared in classes and methods.</td>\n",
       "      <td>2.5</td>\n",
       "      <td>Variables can be declared anywhere in a progra...</td>\n",
       "    </tr>\n",
       "    <tr>\n",
       "      <th>35</th>\n",
       "      <td>1.2</td>\n",
       "      <td>Refining.</td>\n",
       "      <td>3.0</td>\n",
       "      <td>The testing stage can influence both the codin...</td>\n",
       "    </tr>\n",
       "    <tr>\n",
       "      <th>16</th>\n",
       "      <td>1.1</td>\n",
       "      <td>it provides a limited proof of concept to veri...</td>\n",
       "      <td>2.0</td>\n",
       "      <td>To simulate the behaviour of portions of the d...</td>\n",
       "    </tr>\n",
       "    <tr>\n",
       "      <th>109</th>\n",
       "      <td>1.5</td>\n",
       "      <td>a stored value used by the program</td>\n",
       "      <td>4.5</td>\n",
       "      <td>A location in memory that can store a value.</td>\n",
       "    </tr>\n",
       "    <tr>\n",
       "      <th>56</th>\n",
       "      <td>1.3</td>\n",
       "      <td>Existing classes can be reused, and program ma...</td>\n",
       "      <td>3.5</td>\n",
       "      <td>Abstraction and reusability.</td>\n",
       "    </tr>\n",
       "    <tr>\n",
       "      <th>30</th>\n",
       "      <td>1.2</td>\n",
       "      <td>Verification Debugging</td>\n",
       "      <td>2.0</td>\n",
       "      <td>The testing stage can influence both the codin...</td>\n",
       "    </tr>\n",
       "    <tr>\n",
       "      <th>117</th>\n",
       "      <td>1.6</td>\n",
       "      <td>Variables are declared where ever it is define...</td>\n",
       "      <td>4.5</td>\n",
       "      <td>Variables can be declared anywhere in a progra...</td>\n",
       "    </tr>\n",
       "    <tr>\n",
       "      <th>70</th>\n",
       "      <td>1.4</td>\n",
       "      <td>c++ programs begin to execute in the main method.</td>\n",
       "      <td>5.0</td>\n",
       "      <td>At the main function.</td>\n",
       "    </tr>\n",
       "  </tbody>\n",
       "</table>\n",
       "</div>"
      ],
      "text/plain": [
       "     Question Number                                             Answer  \\\n",
       "8                1.1  Simulating the behavior of only a portion of t...   \n",
       "99               1.5     An identifier that holds a location in memory.   \n",
       "53               1.3                       Easier to debugg Reusability   \n",
       "64               1.3  They make it easier to reuse and adapt previou...   \n",
       "115              1.6  In the Function main() before using the variable.   \n",
       "120              1.6  They can be declared globally just before the ...   \n",
       "66               1.3  Existing classes can be feused, Program mainte...   \n",
       "104              1.5                 A pointer to a location in memory.   \n",
       "24               1.2  Verification, coding, refining the solution an...   \n",
       "5                1.1  To address major issues in the creation of the...   \n",
       "77               1.4                                               main   \n",
       "47               1.3  The main advantages to object-oriented program...   \n",
       "136              1.6  variables can be declared in classes and methods.   \n",
       "35               1.2                                          Refining.   \n",
       "16               1.1  it provides a limited proof of concept to veri...   \n",
       "109              1.5                 a stored value used by the program   \n",
       "56               1.3  Existing classes can be reused, and program ma...   \n",
       "30               1.2                             Verification Debugging   \n",
       "117              1.6  Variables are declared where ever it is define...   \n",
       "70               1.4  c++ programs begin to execute in the main method.   \n",
       "\n",
       "     Marks                                     Correct Answer  \n",
       "8      5.0  To simulate the behaviour of portions of the d...  \n",
       "99     4.0       A location in memory that can store a value.  \n",
       "53     3.0                       Abstraction and reusability.  \n",
       "64     4.5                       Abstraction and reusability.  \n",
       "115    3.0  Variables can be declared anywhere in a progra...  \n",
       "120    5.0  Variables can be declared anywhere in a progra...  \n",
       "66     3.5                       Abstraction and reusability.  \n",
       "104    4.0       A location in memory that can store a value.  \n",
       "24     4.5  The testing stage can influence both the codin...  \n",
       "5      2.5  To simulate the behaviour of portions of the d...  \n",
       "77     5.0                              At the main function.  \n",
       "47     3.5                       Abstraction and reusability.  \n",
       "136    2.5  Variables can be declared anywhere in a progra...  \n",
       "35     3.0  The testing stage can influence both the codin...  \n",
       "16     2.0  To simulate the behaviour of portions of the d...  \n",
       "109    4.5       A location in memory that can store a value.  \n",
       "56     3.5                       Abstraction and reusability.  \n",
       "30     2.0  The testing stage can influence both the codin...  \n",
       "117    4.5  Variables can be declared anywhere in a progra...  \n",
       "70     5.0                              At the main function.  "
      ]
     },
     "execution_count": 33,
     "metadata": {},
     "output_type": "execute_result"
    }
   ],
   "source": [
    "data = pd.read_csv('textData.csv')\n",
    "data.sample(20)"
   ]
  },
  {
   "cell_type": "code",
   "execution_count": 38,
   "id": "9ceda5b4",
   "metadata": {},
   "outputs": [
    {
     "data": {
      "text/plain": [
       "('variables can be declared in classes and methods.',\n",
       " 'Variables can be declared anywhere in a program. They can be declared inside a function (local variables) or outside the functions (global variables)')"
      ]
     },
     "execution_count": 38,
     "metadata": {},
     "output_type": "execute_result"
    }
   ],
   "source": [
    "data['Answer'][136], data['Correct Answer'][136]"
   ]
  },
  {
   "cell_type": "code",
   "execution_count": 4,
   "id": "c49b5bda",
   "metadata": {},
   "outputs": [
    {
     "data": {
      "text/plain": [
       "'To simulate the behaviour of portions of the desired software product.'"
      ]
     },
     "execution_count": 4,
     "metadata": {},
     "output_type": "execute_result"
    }
   ],
   "source": [
    "correc_answer = data['Correct Answer'][0]\n",
    "correc_answer"
   ]
  },
  {
   "cell_type": "code",
   "execution_count": 5,
   "id": "28459cc7",
   "metadata": {},
   "outputs": [
    {
     "data": {
      "text/plain": [
       "'Defined in the Specification phase a prototype stimulates the behavior of portions of the desired software product.  Meaning, the role of a prototype is a temporary solution until the program itself is refined to be used extensively in problem solving.'"
      ]
     },
     "execution_count": 5,
     "metadata": {},
     "output_type": "execute_result"
    }
   ],
   "source": [
    "data['Answer'][2]"
   ]
  },
  {
   "cell_type": "code",
   "execution_count": 6,
   "id": "6b447619",
   "metadata": {},
   "outputs": [
    {
     "data": {
      "text/plain": [
       "'to simulate the behaviour of portions of the desired software product.'"
      ]
     },
     "execution_count": 6,
     "metadata": {},
     "output_type": "execute_result"
    }
   ],
   "source": [
    "correc_answer = correc_answer.lower()\n",
    "correc_answer"
   ]
  },
  {
   "cell_type": "code",
   "execution_count": 7,
   "id": "f3203a69",
   "metadata": {},
   "outputs": [
    {
     "data": {
      "text/plain": [
       "str"
      ]
     },
     "execution_count": 7,
     "metadata": {},
     "output_type": "execute_result"
    }
   ],
   "source": [
    "type(correc_answer)"
   ]
  },
  {
   "cell_type": "code",
   "execution_count": 8,
   "id": "bb19af33",
   "metadata": {},
   "outputs": [
    {
     "data": {
      "text/plain": [
       "['to',\n",
       " 'simulate',\n",
       " 'the',\n",
       " 'behaviour',\n",
       " 'of',\n",
       " 'portions',\n",
       " 'of',\n",
       " 'the',\n",
       " 'desired',\n",
       " 'software',\n",
       " 'product',\n",
       " '.']"
      ]
     },
     "execution_count": 8,
     "metadata": {},
     "output_type": "execute_result"
    }
   ],
   "source": [
    "correc_answer = word_tokenize(correc_answer)\n",
    "correc_answer"
   ]
  },
  {
   "cell_type": "code",
   "execution_count": 9,
   "id": "b198978a",
   "metadata": {},
   "outputs": [],
   "source": [
    "stop_w = stopwords.words('english') # We will only consider english words"
   ]
  },
  {
   "cell_type": "code",
   "execution_count": 10,
   "id": "423b14b9",
   "metadata": {},
   "outputs": [
    {
     "data": {
      "text/plain": [
       "['i',\n",
       " 'me',\n",
       " 'my',\n",
       " 'myself',\n",
       " 'we',\n",
       " 'our',\n",
       " 'ours',\n",
       " 'ourselves',\n",
       " 'you',\n",
       " \"you're\",\n",
       " \"you've\",\n",
       " \"you'll\",\n",
       " \"you'd\",\n",
       " 'your',\n",
       " 'yours',\n",
       " 'yourself',\n",
       " 'yourselves',\n",
       " 'he',\n",
       " 'him',\n",
       " 'his',\n",
       " 'himself',\n",
       " 'she',\n",
       " \"she's\",\n",
       " 'her',\n",
       " 'hers',\n",
       " 'herself',\n",
       " 'it',\n",
       " \"it's\",\n",
       " 'its',\n",
       " 'itself',\n",
       " 'they',\n",
       " 'them',\n",
       " 'their',\n",
       " 'theirs',\n",
       " 'themselves',\n",
       " 'what',\n",
       " 'which',\n",
       " 'who',\n",
       " 'whom',\n",
       " 'this',\n",
       " 'that',\n",
       " \"that'll\",\n",
       " 'these',\n",
       " 'those',\n",
       " 'am',\n",
       " 'is',\n",
       " 'are',\n",
       " 'was',\n",
       " 'were',\n",
       " 'be',\n",
       " 'been',\n",
       " 'being',\n",
       " 'have',\n",
       " 'has',\n",
       " 'had',\n",
       " 'having',\n",
       " 'do',\n",
       " 'does',\n",
       " 'did',\n",
       " 'doing',\n",
       " 'a',\n",
       " 'an',\n",
       " 'the',\n",
       " 'and',\n",
       " 'but',\n",
       " 'if',\n",
       " 'or',\n",
       " 'because',\n",
       " 'as',\n",
       " 'until',\n",
       " 'while',\n",
       " 'of',\n",
       " 'at',\n",
       " 'by',\n",
       " 'for',\n",
       " 'with',\n",
       " 'about',\n",
       " 'against',\n",
       " 'between',\n",
       " 'into',\n",
       " 'through',\n",
       " 'during',\n",
       " 'before',\n",
       " 'after',\n",
       " 'above',\n",
       " 'below',\n",
       " 'to',\n",
       " 'from',\n",
       " 'up',\n",
       " 'down',\n",
       " 'in',\n",
       " 'out',\n",
       " 'on',\n",
       " 'off',\n",
       " 'over',\n",
       " 'under',\n",
       " 'again',\n",
       " 'further',\n",
       " 'then',\n",
       " 'once',\n",
       " 'here',\n",
       " 'there',\n",
       " 'when',\n",
       " 'where',\n",
       " 'why',\n",
       " 'how',\n",
       " 'all',\n",
       " 'any',\n",
       " 'both',\n",
       " 'each',\n",
       " 'few',\n",
       " 'more',\n",
       " 'most',\n",
       " 'other',\n",
       " 'some',\n",
       " 'such',\n",
       " 'no',\n",
       " 'nor',\n",
       " 'not',\n",
       " 'only',\n",
       " 'own',\n",
       " 'same',\n",
       " 'so',\n",
       " 'than',\n",
       " 'too',\n",
       " 'very',\n",
       " 's',\n",
       " 't',\n",
       " 'can',\n",
       " 'will',\n",
       " 'just',\n",
       " 'don',\n",
       " \"don't\",\n",
       " 'should',\n",
       " \"should've\",\n",
       " 'now',\n",
       " 'd',\n",
       " 'll',\n",
       " 'm',\n",
       " 'o',\n",
       " 're',\n",
       " 've',\n",
       " 'y',\n",
       " 'ain',\n",
       " 'aren',\n",
       " \"aren't\",\n",
       " 'couldn',\n",
       " \"couldn't\",\n",
       " 'didn',\n",
       " \"didn't\",\n",
       " 'doesn',\n",
       " \"doesn't\",\n",
       " 'hadn',\n",
       " \"hadn't\",\n",
       " 'hasn',\n",
       " \"hasn't\",\n",
       " 'haven',\n",
       " \"haven't\",\n",
       " 'isn',\n",
       " \"isn't\",\n",
       " 'ma',\n",
       " 'mightn',\n",
       " \"mightn't\",\n",
       " 'mustn',\n",
       " \"mustn't\",\n",
       " 'needn',\n",
       " \"needn't\",\n",
       " 'shan',\n",
       " \"shan't\",\n",
       " 'shouldn',\n",
       " \"shouldn't\",\n",
       " 'wasn',\n",
       " \"wasn't\",\n",
       " 'weren',\n",
       " \"weren't\",\n",
       " 'won',\n",
       " \"won't\",\n",
       " 'wouldn',\n",
       " \"wouldn't\"]"
      ]
     },
     "execution_count": 10,
     "metadata": {},
     "output_type": "execute_result"
    }
   ],
   "source": [
    "stop_w"
   ]
  },
  {
   "cell_type": "code",
   "execution_count": 11,
   "id": "94959cbb",
   "metadata": {},
   "outputs": [],
   "source": [
    "stop_w.extend('.')"
   ]
  },
  {
   "cell_type": "code",
   "execution_count": 12,
   "id": "39ac6753",
   "metadata": {},
   "outputs": [
    {
     "data": {
      "text/plain": [
       "['simulate', 'behaviour', 'portions', 'desired', 'software', 'product']"
      ]
     },
     "execution_count": 12,
     "metadata": {},
     "output_type": "execute_result"
    }
   ],
   "source": [
    "correc_answer = [word for word in correc_answer if word not in stop_w]\n",
    "correc_answer"
   ]
  },
  {
   "cell_type": "code",
   "execution_count": 13,
   "id": "1148d0d4",
   "metadata": {},
   "outputs": [],
   "source": [
    "ps = PorterStemmer() "
   ]
  },
  {
   "cell_type": "code",
   "execution_count": 14,
   "id": "19ff5131",
   "metadata": {},
   "outputs": [
    {
     "name": "stdout",
     "output_type": "stream",
     "text": [
      "desire | desir\n",
      "desires | desir\n",
      "desirable | desir\n",
      "desiring | desir\n",
      "desiri | desiri\n",
      "eat | eat\n",
      "eating | eat\n",
      "ate | ate\n",
      "feet | feet\n"
     ]
    }
   ],
   "source": [
    "test_words = [\"desire\", \"desires\",\"desirable\", \"desiring\", \"desiri\", \"eat\", \"eating\", \"ate\", \"feet\"]\n",
    "for w in test_words:\n",
    "    print(w, \"|\", ps.stem(w))"
   ]
  },
  {
   "cell_type": "code",
   "execution_count": 15,
   "id": "2a37b95d",
   "metadata": {},
   "outputs": [
    {
     "data": {
      "text/plain": [
       "['simul', 'behaviour', 'portion', 'desir', 'softwar', 'product']"
      ]
     },
     "execution_count": 15,
     "metadata": {},
     "output_type": "execute_result"
    }
   ],
   "source": [
    "stem_words = [ps.stem(w) for w in correc_answer]\n",
    "stem_words"
   ]
  },
  {
   "cell_type": "code",
   "execution_count": 16,
   "id": "42e8d62d",
   "metadata": {},
   "outputs": [
    {
     "data": {
      "text/plain": [
       "['simulate', 'behaviour', 'portions', 'desired', 'software', 'product']"
      ]
     },
     "execution_count": 16,
     "metadata": {},
     "output_type": "execute_result"
    }
   ],
   "source": [
    "correc_answer"
   ]
  },
  {
   "cell_type": "code",
   "execution_count": 17,
   "id": "905b71de",
   "metadata": {},
   "outputs": [
    {
     "name": "stdout",
     "output_type": "stream",
     "text": [
      "desire | desire\n",
      "desires | desire\n",
      "desirable | desirable\n",
      "desiring | desiring\n",
      "desiri | desiri\n",
      "eat | eat\n",
      "eating | eating\n",
      "ate | ate\n",
      "feet | foot\n"
     ]
    }
   ],
   "source": [
    "lemmatizer = WordNetLemmatizer()\n",
    "for w in test_words:\n",
    "    print(w, \"|\", lemmatizer.lemmatize(w))"
   ]
  },
  {
   "cell_type": "code",
   "execution_count": 18,
   "id": "046c71d2",
   "metadata": {},
   "outputs": [
    {
     "data": {
      "text/plain": [
       "['simulate', 'behaviour', 'portion', 'desired', 'software', 'product']"
      ]
     },
     "execution_count": 18,
     "metadata": {},
     "output_type": "execute_result"
    }
   ],
   "source": [
    "lem_words = [ lemmatizer.lemmatize(word) for word in correc_answer] \n",
    "lem_words"
   ]
  },
  {
   "cell_type": "code",
   "execution_count": 19,
   "id": "8c7bd664",
   "metadata": {},
   "outputs": [
    {
     "data": {
      "text/plain": [
       "['To simulate portions of the desired final product with a quick and easy program that does a small specific job. It is a way to help see what the problem is and how you may solve it in the final project.',\n",
       " 'It is used to let the users have a first idea of the completed program and allow the clients to evaluate the program. This can generate much feedback including software specifications and project estimations of the total project.']"
      ]
     },
     "execution_count": 19,
     "metadata": {},
     "output_type": "execute_result"
    }
   ],
   "source": [
    "answers = [data['Answer'][0]]\n",
    "answers.append(data['Answer'][3])\n",
    "answers "
   ]
  },
  {
   "cell_type": "code",
   "execution_count": 20,
   "id": "06349b6d",
   "metadata": {},
   "outputs": [
    {
     "data": {
      "text/plain": [
       "229"
      ]
     },
     "execution_count": 20,
     "metadata": {},
     "output_type": "execute_result"
    }
   ],
   "source": [
    "len(answers[1])"
   ]
  },
  {
   "cell_type": "code",
   "execution_count": 21,
   "id": "5113bcb2",
   "metadata": {},
   "outputs": [
    {
     "data": {
      "text/plain": [
       "Text(0, 0.5, 'Number of words')"
      ]
     },
     "execution_count": 21,
     "metadata": {},
     "output_type": "execute_result"
    },
    {
     "data": {
      "image/png": "[encoded data removed]",
      "text/plain": [
       "<Figure size 720x360 with 1 Axes>"
      ]
     },
     "metadata": {
      "needs_background": "light"
     },
     "output_type": "display_data"
    }
   ],
   "source": [
    "plt.figure(figsize=(10,5))\n",
    "# plt.rcParams.update({'font.size': 14})\n",
    "values = [len(answer) for answer in answers]\n",
    "plt.bar(['Answer1','Answer2'], values, color ='maroon',width = 0.3)\n",
    "plt.bar(['Correct Answer'], [len(data['Correct Answer'][0])], color ='green',width = 0.3)\n",
    "plt.title('Distribution of number of words per Answer',weight='bold',fontsize=14)\n",
    "plt.ylabel(\"Number of words\",weight='bold',fontsize=14)\n"
   ]
  },
  {
   "cell_type": "code",
   "execution_count": 22,
   "id": "31db21df",
   "metadata": {},
   "outputs": [
    {
     "data": {
      "text/plain": [
       "'To simulate portions of the desired final product with a quick and easy program that does a small specific job. It is a way to help see what the problem is and how you may solve it in the final project.'"
      ]
     },
     "execution_count": 22,
     "metadata": {},
     "output_type": "execute_result"
    }
   ],
   "source": [
    "student1 = answers[0]\n",
    "student1"
   ]
  },
  {
   "cell_type": "code",
   "execution_count": 23,
   "id": "c36c7980",
   "metadata": {},
   "outputs": [],
   "source": [
    "student1 = student1.lower() # str\n",
    "student1 = word_tokenize(student1) # list\n",
    "student1 = [word for word in student1 if word not in stop_w] # list\n",
    "student1 = [ps.stem(w) for w in student1] # list"
   ]
  },
  {
   "cell_type": "code",
   "execution_count": 24,
   "id": "c822fd6d",
   "metadata": {},
   "outputs": [
    {
     "data": {
      "text/plain": [
       "['simul',\n",
       " 'portion',\n",
       " 'desir',\n",
       " 'final',\n",
       " 'product',\n",
       " 'quick',\n",
       " 'easi',\n",
       " 'program',\n",
       " 'small',\n",
       " 'specif',\n",
       " 'job',\n",
       " 'way',\n",
       " 'help',\n",
       " 'see',\n",
       " 'problem',\n",
       " 'may',\n",
       " 'solv',\n",
       " 'final',\n",
       " 'project']"
      ]
     },
     "execution_count": 24,
     "metadata": {},
     "output_type": "execute_result"
    }
   ],
   "source": [
    "student1"
   ]
  },
  {
   "cell_type": "code",
   "execution_count": 25,
   "id": "697bf103",
   "metadata": {},
   "outputs": [
    {
     "data": {
      "text/plain": [
       "'It is used to let the users have a first idea of the completed program and allow the clients to evaluate the program. This can generate much feedback including software specifications and project estimations of the total project.'"
      ]
     },
     "execution_count": 25,
     "metadata": {},
     "output_type": "execute_result"
    }
   ],
   "source": [
    "answers[1]"
   ]
  },
  {
   "cell_type": "code",
   "execution_count": 26,
   "id": "96c90def",
   "metadata": {},
   "outputs": [],
   "source": [
    "student4 = answers[1]\n",
    "student4 = student4.lower()\n",
    "student4 = word_tokenize(student4)\n",
    "student4 = [word for word in student4 if word not in stop_w]\n",
    "student4 = [ps.stem(w) for w in student4]"
   ]
  },
  {
   "cell_type": "code",
   "execution_count": 27,
   "id": "90d0cc09",
   "metadata": {},
   "outputs": [
    {
     "data": {
      "text/plain": [
       "['use',\n",
       " 'let',\n",
       " 'user',\n",
       " 'first',\n",
       " 'idea',\n",
       " 'complet',\n",
       " 'program',\n",
       " 'allow',\n",
       " 'client',\n",
       " 'evalu',\n",
       " 'program',\n",
       " 'gener',\n",
       " 'much',\n",
       " 'feedback',\n",
       " 'includ',\n",
       " 'softwar',\n",
       " 'specif',\n",
       " 'project',\n",
       " 'estim',\n",
       " 'total',\n",
       " 'project']"
      ]
     },
     "execution_count": 27,
     "metadata": {},
     "output_type": "execute_result"
    }
   ],
   "source": [
    "student4"
   ]
  },
  {
   "cell_type": "code",
   "execution_count": 28,
   "id": "910b68e6",
   "metadata": {},
   "outputs": [
    {
     "data": {
      "text/plain": [
       "Text(0, 0.5, 'Number of words')"
      ]
     },
     "execution_count": 28,
     "metadata": {},
     "output_type": "execute_result"
    },
    {
     "data": {
      "image/png": "[encoded data removed]",
      "text/plain": [
       "<Figure size 720x360 with 1 Axes>"
      ]
     },
     "metadata": {
      "needs_background": "light"
     },
     "output_type": "display_data"
    }
   ],
   "source": [
    "plt.figure(figsize=(10,5))\n",
    "plt.rcParams.update({'font.size': 14})\n",
    "values = [len(answer) for answer in answers]\n",
    "plt.bar(['Answer1','Answer2'], [len(student1),len(student4)] , color ='maroon',width = 0.4)\n",
    "plt.bar(['Correct Answer'], [len(correc_answer)], color ='green',width = 0.4)\n",
    "\n",
    "plt.title('Distribution of number of words per Answer',weight='bold',fontsize=14)\n",
    "plt.ylim(0,50)\n",
    "plt.ylabel(\"Number of words\",weight='bold',fontsize=14)\n"
   ]
  },
  {
   "cell_type": "code",
   "execution_count": 29,
   "id": "a0724dd9",
   "metadata": {},
   "outputs": [],
   "source": [
    "vectorizer = CountVectorizer()"
   ]
  },
  {
   "cell_type": "code",
   "execution_count": 30,
   "id": "ae2487f3",
   "metadata": {},
   "outputs": [
    {
     "data": {
      "text/plain": [
       "['simulate', 'behaviour', 'portions', 'desired', 'software', 'product']"
      ]
     },
     "execution_count": 30,
     "metadata": {},
     "output_type": "execute_result"
    }
   ],
   "source": [
    "correc_answer"
   ]
  },
  {
   "cell_type": "code",
   "execution_count": 31,
   "id": "0b98eca9",
   "metadata": {},
   "outputs": [
    {
     "data": {
      "text/plain": [
       "['simul',\n",
       " 'portion',\n",
       " 'desir',\n",
       " 'final',\n",
       " 'product',\n",
       " 'quick',\n",
       " 'easi',\n",
       " 'program',\n",
       " 'small',\n",
       " 'specif',\n",
       " 'job',\n",
       " 'way',\n",
       " 'help',\n",
       " 'see',\n",
       " 'problem',\n",
       " 'may',\n",
       " 'solv',\n",
       " 'final',\n",
       " 'project']"
      ]
     },
     "execution_count": 31,
     "metadata": {},
     "output_type": "execute_result"
    }
   ],
   "source": [
    "student1"
   ]
  },
  {
   "cell_type": "code",
   "execution_count": 32,
   "id": "61903a7f",
   "metadata": {},
   "outputs": [],
   "source": [
    "docs = [\n",
    "        ' '.join(correc_answer),\n",
    "        ' '.join(student1),\n",
    "        ' '.join(student4)\n",
    "]"
   ]
  },
  {
   "cell_type": "code",
   "execution_count": 33,
   "id": "7f87347b",
   "metadata": {},
   "outputs": [
    {
     "data": {
      "text/plain": [
       "'simulate behaviour portions desired software product'"
      ]
     },
     "execution_count": 33,
     "metadata": {},
     "output_type": "execute_result"
    }
   ],
   "source": [
    "docs[0]"
   ]
  },
  {
   "cell_type": "code",
   "execution_count": 34,
   "id": "eeb6b103",
   "metadata": {},
   "outputs": [
    {
     "data": {
      "text/plain": [
       "'simul portion desir final product quick easi program small specif job way help see problem may solv final project'"
      ]
     },
     "execution_count": 34,
     "metadata": {},
     "output_type": "execute_result"
    }
   ],
   "source": [
    "docs[1]"
   ]
  },
  {
   "cell_type": "code",
   "execution_count": 35,
   "id": "6bf234b9",
   "metadata": {},
   "outputs": [
    {
     "data": {
      "text/plain": [
       "'use let user first idea complet program allow client evalu program gener much feedback includ softwar specif project estim total project'"
      ]
     },
     "execution_count": 35,
     "metadata": {},
     "output_type": "execute_result"
    }
   ],
   "source": [
    "docs[2]"
   ]
  },
  {
   "cell_type": "code",
   "execution_count": 36,
   "id": "02b81d20",
   "metadata": {},
   "outputs": [],
   "source": [
    "x1 = vectorizer.fit_transform(docs)"
   ]
  },
  {
   "cell_type": "code",
   "execution_count": 37,
   "id": "2ce1c6a4",
   "metadata": {},
   "outputs": [
    {
     "data": {
      "text/plain": [
       "array([[0, 1, 0, 0, 0, 1, 0, 0, 0, 0, 0, 0, 0, 0, 0, 0, 0, 0, 0, 0, 0, 1,\n",
       "        0, 1, 0, 0, 0, 0, 0, 1, 0, 0, 1, 0, 0, 0, 0, 0, 0],\n",
       "       [0, 0, 0, 0, 1, 0, 1, 0, 0, 0, 2, 0, 0, 1, 0, 0, 1, 0, 1, 0, 1, 0,\n",
       "        1, 1, 1, 1, 1, 1, 1, 0, 1, 0, 0, 1, 1, 0, 0, 0, 1],\n",
       "       [1, 0, 1, 1, 0, 0, 0, 1, 1, 1, 0, 1, 1, 0, 1, 1, 0, 1, 0, 1, 0, 0,\n",
       "        0, 0, 2, 2, 0, 0, 0, 0, 0, 1, 0, 0, 1, 1, 1, 1, 0]])"
      ]
     },
     "execution_count": 37,
     "metadata": {},
     "output_type": "execute_result"
    }
   ],
   "source": [
    "x1.toarray()"
   ]
  },
  {
   "cell_type": "code",
   "execution_count": 38,
   "id": "b1925648",
   "metadata": {},
   "outputs": [
    {
     "data": {
      "text/html": [
       "<div>\n",
       "<style scoped>\n",
       "    .dataframe tbody tr th:only-of-type {\n",
       "        vertical-align: middle;\n",
       "    }\n",
       "\n",
       "    .dataframe tbody tr th {\n",
       "        vertical-align: top;\n",
       "    }\n",
       "\n",
       "    .dataframe thead th {\n",
       "        text-align: right;\n",
       "    }\n",
       "</style>\n",
       "<table border=\"1\" class=\"dataframe\">\n",
       "  <thead>\n",
       "    <tr style=\"text-align: right;\">\n",
       "      <th></th>\n",
       "      <th>allow</th>\n",
       "      <th>behaviour</th>\n",
       "      <th>client</th>\n",
       "      <th>complet</th>\n",
       "      <th>desir</th>\n",
       "      <th>desired</th>\n",
       "      <th>easi</th>\n",
       "      <th>estim</th>\n",
       "      <th>evalu</th>\n",
       "      <th>feedback</th>\n",
       "      <th>...</th>\n",
       "      <th>simulate</th>\n",
       "      <th>small</th>\n",
       "      <th>softwar</th>\n",
       "      <th>software</th>\n",
       "      <th>solv</th>\n",
       "      <th>specif</th>\n",
       "      <th>total</th>\n",
       "      <th>use</th>\n",
       "      <th>user</th>\n",
       "      <th>way</th>\n",
       "    </tr>\n",
       "  </thead>\n",
       "  <tbody>\n",
       "    <tr>\n",
       "      <th>Correct Answer</th>\n",
       "      <td>0</td>\n",
       "      <td>1</td>\n",
       "      <td>0</td>\n",
       "      <td>0</td>\n",
       "      <td>0</td>\n",
       "      <td>1</td>\n",
       "      <td>0</td>\n",
       "      <td>0</td>\n",
       "      <td>0</td>\n",
       "      <td>0</td>\n",
       "      <td>...</td>\n",
       "      <td>1</td>\n",
       "      <td>0</td>\n",
       "      <td>0</td>\n",
       "      <td>1</td>\n",
       "      <td>0</td>\n",
       "      <td>0</td>\n",
       "      <td>0</td>\n",
       "      <td>0</td>\n",
       "      <td>0</td>\n",
       "      <td>0</td>\n",
       "    </tr>\n",
       "    <tr>\n",
       "      <th>Answer1</th>\n",
       "      <td>0</td>\n",
       "      <td>0</td>\n",
       "      <td>0</td>\n",
       "      <td>0</td>\n",
       "      <td>1</td>\n",
       "      <td>0</td>\n",
       "      <td>1</td>\n",
       "      <td>0</td>\n",
       "      <td>0</td>\n",
       "      <td>0</td>\n",
       "      <td>...</td>\n",
       "      <td>0</td>\n",
       "      <td>1</td>\n",
       "      <td>0</td>\n",
       "      <td>0</td>\n",
       "      <td>1</td>\n",
       "      <td>1</td>\n",
       "      <td>0</td>\n",
       "      <td>0</td>\n",
       "      <td>0</td>\n",
       "      <td>1</td>\n",
       "    </tr>\n",
       "    <tr>\n",
       "      <th>Answer2</th>\n",
       "      <td>1</td>\n",
       "      <td>0</td>\n",
       "      <td>1</td>\n",
       "      <td>1</td>\n",
       "      <td>0</td>\n",
       "      <td>0</td>\n",
       "      <td>0</td>\n",
       "      <td>1</td>\n",
       "      <td>1</td>\n",
       "      <td>1</td>\n",
       "      <td>...</td>\n",
       "      <td>0</td>\n",
       "      <td>0</td>\n",
       "      <td>1</td>\n",
       "      <td>0</td>\n",
       "      <td>0</td>\n",
       "      <td>1</td>\n",
       "      <td>1</td>\n",
       "      <td>1</td>\n",
       "      <td>1</td>\n",
       "      <td>0</td>\n",
       "    </tr>\n",
       "  </tbody>\n",
       "</table>\n",
       "<p>3 rows × 39 columns</p>\n",
       "</div>"
      ],
      "text/plain": [
       "                allow  behaviour  client  complet  desir  desired  easi  \\\n",
       "Correct Answer      0          1       0        0      0        1     0   \n",
       "Answer1             0          0       0        0      1        0     1   \n",
       "Answer2             1          0       1        1      0        0     0   \n",
       "\n",
       "                estim  evalu  feedback  ...  simulate  small  softwar  \\\n",
       "Correct Answer      0      0         0  ...         1      0        0   \n",
       "Answer1             0      0         0  ...         0      1        0   \n",
       "Answer2             1      1         1  ...         0      0        1   \n",
       "\n",
       "                software  solv  specif  total  use  user  way  \n",
       "Correct Answer         1     0       0      0    0     0    0  \n",
       "Answer1                0     1       1      0    0     0    1  \n",
       "Answer2                0     0       1      1    1     1    0  \n",
       "\n",
       "[3 rows x 39 columns]"
      ]
     },
     "execution_count": 38,
     "metadata": {},
     "output_type": "execute_result"
    }
   ],
   "source": [
    "df = pd.DataFrame(x1.toarray(), index = ['Correct Answer','Answer1','Answer2'], \n",
    "                  columns = vectorizer.get_feature_names_out())\n",
    "df"
   ]
  },
  {
   "cell_type": "code",
   "execution_count": 39,
   "id": "d7bf4a31",
   "metadata": {},
   "outputs": [],
   "source": [
    "def cosine_similarity(A,B):\n",
    "  return np.dot(A,B)/(np.linalg.norm(A)*np.linalg.norm(B))"
   ]
  },
  {
   "cell_type": "code",
   "execution_count": 41,
   "id": "f77eac0c",
   "metadata": {},
   "outputs": [
    {
     "data": {
      "text/plain": [
       "[[1.0, 0.08908708063747481, 0.2182178902359924],\n",
       " [0.08908708063747481, 1.0000000000000002, 0.0],\n",
       " [0.2182178902359924, 0.0, 1.0]]"
      ]
     },
     "execution_count": 41,
     "metadata": {},
     "output_type": "execute_result"
    }
   ],
   "source": [
    "array = df.values\n",
    "correct_answer = array[0]\n",
    "answer1 = array[1]\n",
    "answer2 = array[2]\n",
    "\n",
    "\n",
    "q1 = cosine_similarity(answer1,answer1)\n",
    "q2 = cosine_similarity(correct_answer,answer1)\n",
    "q3 = cosine_similarity(answer1,answer2)\n",
    "\n",
    "q4 = cosine_similarity(correct_answer,answer2)\n",
    "q5 = cosine_similarity(answer2,answer2)\n",
    "\n",
    "q6 = cosine_similarity(correct_answer,correct_answer)\n",
    "\n",
    "\n",
    "\n",
    "output = [  [q1,q2,q3],[q2,q6,q4],[q3,q4,q5] ]\n",
    "output"
   ]
  },
  {
   "cell_type": "code",
   "execution_count": 42,
   "id": "5852b69c",
   "metadata": {},
   "outputs": [
    {
     "data": {
      "text/html": [
       "<div>\n",
       "<style scoped>\n",
       "    .dataframe tbody tr th:only-of-type {\n",
       "        vertical-align: middle;\n",
       "    }\n",
       "\n",
       "    .dataframe tbody tr th {\n",
       "        vertical-align: top;\n",
       "    }\n",
       "\n",
       "    .dataframe thead th {\n",
       "        text-align: right;\n",
       "    }\n",
       "</style>\n",
       "<table border=\"1\" class=\"dataframe\">\n",
       "  <thead>\n",
       "    <tr style=\"text-align: right;\">\n",
       "      <th></th>\n",
       "      <th>Answer1</th>\n",
       "      <th>Correct Answer</th>\n",
       "      <th>Answer2</th>\n",
       "    </tr>\n",
       "  </thead>\n",
       "  <tbody>\n",
       "    <tr>\n",
       "      <th>Answer1</th>\n",
       "      <td>1.000000</td>\n",
       "      <td>0.089087</td>\n",
       "      <td>0.218218</td>\n",
       "    </tr>\n",
       "    <tr>\n",
       "      <th>Correct Answer</th>\n",
       "      <td>0.089087</td>\n",
       "      <td>1.000000</td>\n",
       "      <td>0.000000</td>\n",
       "    </tr>\n",
       "    <tr>\n",
       "      <th>Answer2</th>\n",
       "      <td>0.218218</td>\n",
       "      <td>0.000000</td>\n",
       "      <td>1.000000</td>\n",
       "    </tr>\n",
       "  </tbody>\n",
       "</table>\n",
       "</div>"
      ],
      "text/plain": [
       "                 Answer1  Correct Answer   Answer2\n",
       "Answer1         1.000000        0.089087  0.218218\n",
       "Correct Answer  0.089087        1.000000  0.000000\n",
       "Answer2         0.218218        0.000000  1.000000"
      ]
     },
     "execution_count": 42,
     "metadata": {},
     "output_type": "execute_result"
    }
   ],
   "source": [
    "output = pd.DataFrame(output,index=['Answer1','Correct Answer','Answer2'], columns=['Answer1','Correct Answer','Answer2'])\n",
    "output"
   ]
  },
  {
   "cell_type": "code",
   "execution_count": 43,
   "id": "7fac34ac",
   "metadata": {},
   "outputs": [
    {
     "data": {
      "text/plain": [
       "Text(65.0, 0.5, ' ')"
      ]
     },
     "execution_count": 43,
     "metadata": {},
     "output_type": "execute_result"
    },
    {
     "data": {
      "image/png": "[encoded data removed]",
      "text/plain": [
       "<Figure size 720x720 with 2 Axes>"
      ]
     },
     "metadata": {
      "needs_background": "light"
     },
     "output_type": "display_data"
    }
   ],
   "source": [
    "plt.figure(figsize=(10,10))\n",
    "plt.title('Cosine Similarity',weight='bold')\n",
    "\n",
    "sns.heatmap(output,vmin=0.0,vmax=1.0,cmap='seismic',annot=True)\n",
    "plt.tick_params(labelbottom=True)\n",
    "plt.yticks(rotation=0)\n",
    "plt.xticks(rotation=45)\n",
    "\n",
    "plt.ylabel(' ')"
   ]
  }
 ],
 "metadata": {
  "kernelspec": {
   "display_name": "Python 3 (ipykernel)",
   "language": "python",
   "name": "python3"
  },
  "language_info": {
   "codemirror_mode": {
    "name": "ipython",
    "version": 3
   },
   "file_extension": ".py",
   "mimetype": "text/x-python",
   "name": "python",
   "nbconvert_exporter": "python",
   "pygments_lexer": "ipython3",
   "version": "3.10.0"
  }
 },
 "nbformat": 4,
 "nbformat_minor": 5
}
