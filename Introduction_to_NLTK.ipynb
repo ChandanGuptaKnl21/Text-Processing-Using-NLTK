{
 "cells": [
  {
   "cell_type": "markdown",
   "id": "68fc8dbc",
   "metadata": {},
   "source": [
    "# Natural Language Processing Toolkit"
   ]
  },
  {
   "cell_type": "code",
   "execution_count": null,
   "id": "1f9f40a0",
   "metadata": {},
   "outputs": [],
   "source": [
    "NLTK is a library which provoides\n",
    "- Tokenization\n",
    "- Stopwords Removal\n",
    "- Stemming\n",
    "- Lemmatisation\n",
    "- Part of Speech Tagging\n",
    "\n"
   ]
  },
  {
   "cell_type": "code",
   "execution_count": null,
   "id": "6aa4ffe4",
   "metadata": {},
   "outputs": [],
   "source": [
    "Machine Learning Models\n",
    "Linear Regression\n",
    "Logistic Regresssion\n",
    "Random Forest\n",
    "\n",
    "\n",
    "Machine Learning Models\n",
    "\n",
    "Features\n",
    "\n",
    "HouseArea Housewidth Houselength  - price\n",
    "1000      50         20             100000\n"
   ]
  },
  {
   "cell_type": "code",
   "execution_count": null,
   "id": "1cacb6a9",
   "metadata": {},
   "outputs": [],
   "source": [
    "Articles1 = [\"Rain in Bengaluru will come as a respite for residents\\\n",
    "             who have been reeling under high temperatures. \"]\n",
    "\n",
    "Article2 = [\"Its going to rain today in Bengaluru \"]"
   ]
  },
  {
   "cell_type": "code",
   "execution_count": 5,
   "id": "ef1ab769",
   "metadata": {},
   "outputs": [
    {
     "data": {
      "text/plain": [
       "'-'"
      ]
     },
     "execution_count": 5,
     "metadata": {},
     "output_type": "execute_result"
    }
   ],
   "source": [
    "Lets say you are given HealthCare Claims Dataset\n",
    "\n",
    "df.columns = [PatientId, Symptoms, Diagnosis, Medicines,\n",
    "              Prices, TotalAmount, Fraudulent]\n",
    "\n",
    "Binary Classification Dataset\n",
    "\n",
    "Symptoms - \"Fever, Pain, Vomit\"   - [12 76 34]\n",
    "Diagnosis - \"Take Medicines, and rest\"\n",
    "Prices - [100, 200]\n",
    "TotalAmount"
   ]
  },
  {
   "cell_type": "markdown",
   "id": "64c8371e",
   "metadata": {},
   "source": [
    "# Sentiment Analysis"
   ]
  },
  {
   "cell_type": "code",
   "execution_count": 10,
   "id": "55941138",
   "metadata": {},
   "outputs": [
    {
     "name": "stdout",
     "output_type": "stream",
     "text": [
      "Requirement already satisfied: nltk in c:\\users\\heena\\appdata\\local\\packages\\pythonsoftwarefoundation.python.3.10_qbz5n2kfra8p0\\localcache\\local-packages\\python310\\site-packages (3.8.1)\n",
      "Requirement already satisfied: regex>=2021.8.3 in c:\\users\\heena\\appdata\\local\\packages\\pythonsoftwarefoundation.python.3.10_qbz5n2kfra8p0\\localcache\\local-packages\\python310\\site-packages (from nltk) (2023.3.23)\n",
      "Requirement already satisfied: click in c:\\users\\heena\\appdata\\local\\packages\\pythonsoftwarefoundation.python.3.10_qbz5n2kfra8p0\\localcache\\local-packages\\python310\\site-packages (from nltk) (8.1.3)\n",
      "Requirement already satisfied: joblib in c:\\users\\heena\\appdata\\local\\packages\\pythonsoftwarefoundation.python.3.10_qbz5n2kfra8p0\\localcache\\local-packages\\python310\\site-packages (from nltk) (1.2.0)\n",
      "Requirement already satisfied: tqdm in c:\\users\\heena\\appdata\\local\\packages\\pythonsoftwarefoundation.python.3.10_qbz5n2kfra8p0\\localcache\\local-packages\\python310\\site-packages (from nltk) (4.64.1)\n",
      "Requirement already satisfied: colorama in c:\\users\\heena\\appdata\\local\\packages\\pythonsoftwarefoundation.python.3.10_qbz5n2kfra8p0\\localcache\\local-packages\\python310\\site-packages (from click->nltk) (0.4.6)\n"
     ]
    },
    {
     "name": "stderr",
     "output_type": "stream",
     "text": [
      "\n",
      "[notice] A new release of pip available: 22.3.1 -> 23.1\n",
      "[notice] To update, run: C:\\Users\\heena\\AppData\\Local\\Microsoft\\WindowsApps\\PythonSoftwareFoundation.Python.3.10_qbz5n2kfra8p0\\python.exe -m pip install --upgrade pip\n"
     ]
    }
   ],
   "source": [
    "!pip install nltk"
   ]
  },
  {
   "cell_type": "markdown",
   "id": "b78ff564",
   "metadata": {},
   "source": [
    "# Tokenizers"
   ]
  },
  {
   "cell_type": "code",
   "execution_count": 5,
   "id": "6b61b35e",
   "metadata": {},
   "outputs": [
    {
     "name": "stdout",
     "output_type": "stream",
     "text": [
      "['Good', 'muffins', 'cost', '$', '3.88', 'in', 'New', 'York', '.', 'Please', 'buy', 'me', 'two', 'of', 'them', '.', 'Thanks', '.']\n"
     ]
    }
   ],
   "source": [
    "from nltk.tokenize import word_tokenize\n",
    "s = '''Good muffins cost $3.88\\nin New York.  Please buy me two of them.\\n\\nThanks.'''\n",
    "print(word_tokenize(s)) "
   ]
  },
  {
   "cell_type": "code",
   "execution_count": 8,
   "id": "4047a198",
   "metadata": {},
   "outputs": [
    {
     "name": "stdout",
     "output_type": "stream",
     "text": [
      "['https://t.co/9z2J3P33Uc', 'FB', 'needs', 'to', 'hurry', 'up', 'and', 'add', 'a', 'laugh', '/', 'cry', 'button', '😬', '😭', '😓', '🤢', '🙄', '😱', 'Since', 'eating', 'my', 'feelings', 'has', 'not', 'fixed', 'the', \"world's\", 'problems', ',', 'I', 'guess', \"I'll\", 'try', 'to', 'sleep', '...', 'HOLY', 'CRAP', ':', 'DeVos', 'questionnaire', 'appears', 'to', 'include', 'passages', 'from', 'uncited', 'sources', 'https://t.co/FNRoOlfw9s', 'well', 'played', ',', 'Senator', 'Murray', 'Keep', 'the', 'pressure', 'on', ':', 'https://t.co/4hfOsmdk0l', '@datageneral', 'thx', 'Mr', 'Taussig', \"It's\", 'interesting', 'how', 'many', 'people', 'contact', 'me', 'about', 'applying', 'for', 'a', 'PhD', 'and', \"don't\", 'spell', 'my', 'name', 'right', '#facebook', '#crap', '#devops', '#SenatorMurray']\n"
     ]
    }
   ],
   "source": [
    "from nltk.tokenize import TweetTokenizer\n",
    "s = '''https://t.co/9z2J3P33Uc FB needs to hurry up \n",
    "and add a laugh/cry button 😬😭😓🤢🙄😱\n",
    "Since eating my feelings has not fixed the world's problems,\n",
    "I guess I'll try to sleep...\n",
    "HOLY CRAP: DeVos questionnaire appears to include passages\n",
    "from uncited sources https://t.co/FNRoOlfw9s well played,\n",
    "Senator Murray Keep the pressure on: https://t.co/4hfOsmdk0l \n",
    "@datageneral thx Mr Taussig \n",
    "It's interesting how many people contact me about applying for a PhD \n",
    "and don't spell my name right #facebook #crap #devops #SenatorMurray'''\n",
    "\n",
    "tweetTokenizer = TweetTokenizer()\n",
    "print(tweetTokenizer.tokenize(s))"
   ]
  },
  {
   "cell_type": "code",
   "execution_count": null,
   "id": "e5e629f7",
   "metadata": {},
   "outputs": [],
   "source": [
    "[]"
   ]
  },
  {
   "cell_type": "code",
   "execution_count": 4,
   "id": "5bba831e",
   "metadata": {},
   "outputs": [
    {
     "name": "stdout",
     "output_type": "stream",
     "text": [
      "[['Quality', 'is', 'nice', '.'], ['It', ';', 'is', 'just', 'too', 'good'], ['Worth', 'for', 'the', 'price'], ['Defective', 'product'], ['Received', 'wrong', 'color'], ['Bad', 'quality', 'of', 'the', 'fabric']]\n"
     ]
    }
   ],
   "source": [
    "import nltk \n",
    "from nltk import word_tokenize\n",
    "from nltk.corpus import stopwords\n",
    "from nltk.stem import PorterStemmer\n",
    "from nltk.stem import WordNetLemmatizer \n",
    "\n",
    "sentences = [\"Quality is nice.\", \"It is just too good\",\n",
    "             \"Worth for the price\",\n",
    "             \"Defective product\", \"Received wrong color\", \n",
    "             \"Bad quality of the fabric\"]\n",
    "\n",
    "docs = [word_tokenize(sent) for sent in sentences]\n",
    "print(docs)\n",
    "\n"
   ]
  },
  {
   "cell_type": "markdown",
   "id": "76d54720",
   "metadata": {},
   "source": [
    "# Stemming"
   ]
  },
  {
   "cell_type": "code",
   "execution_count": null,
   "id": "6509ac81",
   "metadata": {},
   "outputs": [],
   "source": [
    "[\"go\", \"goes\", \"going\", \"gone\", \"travel\", \"traveling\", \"travels\"\n",
    " \"chair\", \"chairs\"]"
   ]
  },
  {
   "cell_type": "code",
   "execution_count": null,
   "id": "5f82be1f",
   "metadata": {},
   "outputs": [],
   "source": [
    "Multiple forms of the same word\n",
    "- [\"go\"]\n",
    "- [\"goes\"]\n",
    "- [\"going\"]"
   ]
  },
  {
   "cell_type": "code",
   "execution_count": 10,
   "id": "48109b61",
   "metadata": {},
   "outputs": [
    {
     "name": "stdout",
     "output_type": "stream",
     "text": [
      "caress fli die mule deni die agre own humbl size meet state siez item sensat tradit refer colon plot go went gone\n"
     ]
    }
   ],
   "source": [
    "from nltk.stem import *\n",
    "from nltk.stem.porter import *\n",
    "stemmer = PorterStemmer()\n",
    "plurals = ['caresses', 'flies', 'dies', 'mules', 'denied',\n",
    "    'died', 'agreed', 'owned', 'humbled', 'sized',\n",
    "    'meeting', 'stating', 'siezing', 'itemization',\n",
    "    'sensational', 'traditional', 'reference', 'colonizer',\n",
    "    'plotted', \"go\", \"went\", \"gone\"]\n",
    "singles = [stemmer.stem(plural) for plural in plurals]\n",
    "print(' '.join(singles))"
   ]
  },
  {
   "cell_type": "code",
   "execution_count": null,
   "id": "6e4dd6f6",
   "metadata": {},
   "outputs": [],
   "source": [
    "A1 = cheering - cheer \n",
    "A2 = cheer\n",
    "\n",
    "happy\n",
    "happiness"
   ]
  },
  {
   "cell_type": "code",
   "execution_count": null,
   "id": "da8ad8c7",
   "metadata": {},
   "outputs": [],
   "source": [
    "deny denies, denied   - deni or deny"
   ]
  },
  {
   "cell_type": "markdown",
   "id": "b1f52632",
   "metadata": {},
   "source": [
    "# Lemmatisation"
   ]
  },
  {
   "cell_type": "code",
   "execution_count": null,
   "id": "f8d52f6b",
   "metadata": {},
   "outputs": [],
   "source": [
    "It looks into morphological understanding \n",
    "of the word to bring it to base form"
   ]
  },
  {
   "cell_type": "code",
   "execution_count": null,
   "id": "01451ea8",
   "metadata": {},
   "outputs": [],
   "source": [
    "Nikhil made a nice point\n",
    "\n",
    "A1 - go\n",
    "A2 - went\n",
    "A3 - gone"
   ]
  },
  {
   "cell_type": "code",
   "execution_count": null,
   "id": "96e01062",
   "metadata": {},
   "outputs": [],
   "source": [
    "Lemmatisation - looks at the word and also looks at the context of the word\n",
    "\n",
    "I am going somewhere  -  part of speech - PP is tagged with going\n",
    "I went somewhere   - Verb Past is tagged with went \n",
    "I had gone somewhere - POS will be tagged with gone"
   ]
  },
  {
   "cell_type": "code",
   "execution_count": 12,
   "id": "f5235709",
   "metadata": {},
   "outputs": [
    {
     "name": "stdout",
     "output_type": "stream",
     "text": [
      "go\n",
      "go\n",
      "go\n"
     ]
    }
   ],
   "source": [
    "from nltk.stem import WordNetLemmatizer\n",
    "\n",
    "lemmatizer = WordNetLemmatizer()\n",
    "\n",
    "# print(lemmatizer.lemmatize(\"cats\"))\n",
    "# print(lemmatizer.lemmatize(\"cacti\"))\n",
    "# print(lemmatizer.lemmatize(\"geese\"))\n",
    "# print(lemmatizer.lemmatize(\"rocks\"))\n",
    "# print(lemmatizer.lemmatize(\"python\"))\n",
    "# print(lemmatizer.lemmatize(\"better\", pos=\"a\"))\n",
    "# print(lemmatizer.lemmatize(\"best\", pos=\"a\"))\n",
    "# print(lemmatizer.lemmatize(\"ran\", pos=\"v\"))\n",
    "\n",
    "print(lemmatizer.lemmatize(\"going\", pos=\"v\"))\n",
    "print(lemmatizer.lemmatize(\"went\", pos=\"v\"))\n",
    "print(lemmatizer.lemmatize(\"gone\", pos=\"v\"))"
   ]
  },
  {
   "cell_type": "markdown",
   "id": "90d346a7",
   "metadata": {},
   "source": [
    "# Parts of Speech Tagging"
   ]
  },
  {
   "cell_type": "code",
   "execution_count": null,
   "id": "a747549d",
   "metadata": {},
   "outputs": [],
   "source": [
    "Hidden Markov Models"
   ]
  },
  {
   "cell_type": "code",
   "execution_count": 13,
   "id": "158aaee1",
   "metadata": {},
   "outputs": [
    {
     "data": {
      "text/plain": [
       "[('We', 'PRP'),\n",
       " ('are', 'VBP'),\n",
       " ('going', 'VBG'),\n",
       " ('together', 'RB'),\n",
       " ('for', 'IN'),\n",
       " ('a', 'DT'),\n",
       " ('walk', 'NN')]"
      ]
     },
     "execution_count": 13,
     "metadata": {},
     "output_type": "execute_result"
    }
   ],
   "source": [
    "text = word_tokenize(\"We are going together for a walk\")\n",
    "nltk.pos_tag(text)"
   ]
  },
  {
   "cell_type": "markdown",
   "id": "071f962f",
   "metadata": {},
   "source": [
    "# Stopwords"
   ]
  },
  {
   "cell_type": "code",
   "execution_count": 14,
   "id": "c65948dc",
   "metadata": {},
   "outputs": [
    {
     "name": "stdout",
     "output_type": "stream",
     "text": [
      "['i', 'me', 'my', 'myself', 'we', 'our', 'ours', 'ourselves', 'you', \"you're\", \"you've\", \"you'll\", \"you'd\", 'your', 'yours', 'yourself', 'yourselves', 'he', 'him', 'his', 'himself', 'she', \"she's\", 'her', 'hers', 'herself', 'it', \"it's\", 'its', 'itself', 'they', 'them', 'their', 'theirs', 'themselves', 'what', 'which', 'who', 'whom', 'this', 'that', \"that'll\", 'these', 'those', 'am', 'is', 'are', 'was', 'were', 'be', 'been', 'being', 'have', 'has', 'had', 'having', 'do', 'does', 'did', 'doing', 'a', 'an', 'the', 'and', 'but', 'if', 'or', 'because', 'as', 'until', 'while', 'of', 'at', 'by', 'for', 'with', 'about', 'against', 'between', 'into', 'through', 'during', 'before', 'after', 'above', 'below', 'to', 'from', 'up', 'down', 'in', 'out', 'on', 'off', 'over', 'under', 'again', 'further', 'then', 'once', 'here', 'there', 'when', 'where', 'why', 'how', 'all', 'any', 'both', 'each', 'few', 'more', 'most', 'other', 'some', 'such', 'no', 'nor', 'not', 'only', 'own', 'same', 'so', 'than', 'too', 'very', 's', 't', 'can', 'will', 'just', 'don', \"don't\", 'should', \"should've\", 'now', 'd', 'll', 'm', 'o', 're', 've', 'y', 'ain', 'aren', \"aren't\", 'couldn', \"couldn't\", 'didn', \"didn't\", 'doesn', \"doesn't\", 'hadn', \"hadn't\", 'hasn', \"hasn't\", 'haven', \"haven't\", 'isn', \"isn't\", 'ma', 'mightn', \"mightn't\", 'mustn', \"mustn't\", 'needn', \"needn't\", 'shan', \"shan't\", 'shouldn', \"shouldn't\", 'wasn', \"wasn't\", 'weren', \"weren't\", 'won', \"won't\", 'wouldn', \"wouldn't\", '.']\n"
     ]
    }
   ],
   "source": [
    "stop_w = stopwords.words('english') # We will only consider english words\n",
    "stop_w.append(\".\")\n",
    "print(stop_w)"
   ]
  },
  {
   "cell_type": "markdown",
   "id": "5ea8c6b8",
   "metadata": {},
   "source": [
    "## Sentiment Analysis"
   ]
  },
  {
   "cell_type": "code",
   "execution_count": 18,
   "id": "06fb0f30",
   "metadata": {},
   "outputs": [
    {
     "name": "stdout",
     "output_type": "stream",
     "text": [
      "[['Quality', 'is', 'nice', '.'], ['It', 'is', 'just', 'too', 'good'], ['Worth', 'for', 'the', 'price'], ['Defective', 'product'], ['Received', 'wrong', 'color'], ['Bad', 'quality', 'of', 'the', 'fabric']]\n"
     ]
    }
   ],
   "source": [
    "sentences = [\"Quality is nice.\", \"It is just too good\",\n",
    "             \"Worth for the price\",\n",
    "             \"Defective product\", \"Received wrong color\",\n",
    "             \"Bad quality of the fabric\"]\n",
    "\n",
    "docs = [word_tokenize(sent) for sent in sentences]\n",
    "print(docs)"
   ]
  },
  {
   "cell_type": "code",
   "execution_count": 19,
   "id": "47d22157",
   "metadata": {},
   "outputs": [
    {
     "name": "stdout",
     "output_type": "stream",
     "text": [
      "[['quality', 'is', 'nice', '.'], ['it', 'is', 'just', 'too', 'good'], ['worth', 'for', 'the', 'price'], ['defective', 'product'], ['received', 'wrong', 'color'], ['bad', 'quality', 'of', 'the', 'fabric']]\n"
     ]
    }
   ],
   "source": [
    "docs = [[word.lower() for word in doc] for doc in docs]\n",
    "print(docs)"
   ]
  },
  {
   "cell_type": "code",
   "execution_count": 20,
   "id": "62e21c28",
   "metadata": {
    "scrolled": true
   },
   "outputs": [
    {
     "name": "stdout",
     "output_type": "stream",
     "text": [
      "[['qualiti', 'nice'], ['good'], ['worth', 'price'], ['defect', 'product'], ['receiv', 'wrong', 'color'], ['bad', 'qualiti', 'fabric']]\n"
     ]
    }
   ],
   "source": [
    "stop_w = stopwords.words('english') # We will only consider english words\n",
    "stop_w.append(\".\")\n",
    "docs = [[stemmer.stem(word) for word in doc if word not in stop_w] for doc in docs]\n",
    "print(docs)"
   ]
  },
  {
   "cell_type": "code",
   "execution_count": 95,
   "id": "edb98bdb",
   "metadata": {},
   "outputs": [
    {
     "name": "stdout",
     "output_type": "stream",
     "text": [
      "Vocabulary: {'product', 'bad', 'good', 'qualiti', 'defect', 'price', 'color', 'fabric', 'worth', 'wrong', 'receiv', 'nice'}\n"
     ]
    }
   ],
   "source": [
    "def compute_vocabulary(docs):\n",
    "    vocabulary = set()\n",
    "    for doc in docs:\n",
    "        vocabulary.update(doc)\n",
    "    return vocabulary\n",
    "vocabulary = compute_vocabulary(docs)\n",
    "print(\"Vocabulary:\", vocabulary)"
   ]
  },
  {
   "cell_type": "code",
   "execution_count": 25,
   "id": "84771984",
   "metadata": {},
   "outputs": [],
   "source": [
    "def find_inverse_vocab(vocabulary):\n",
    "    inv_vocab = {}\n",
    "    for item in vocabulary:\n",
    "        inv_vocab[vocabulary[item]] = item\n",
    "    return inv_vocab"
   ]
  },
  {
   "cell_type": "code",
   "execution_count": 15,
   "id": "317ac8d7",
   "metadata": {},
   "outputs": [],
   "source": [
    "from sklearn.feature_extraction.text import CountVectorizer "
   ]
  },
  {
   "cell_type": "code",
   "execution_count": 21,
   "id": "029d8f31",
   "metadata": {},
   "outputs": [],
   "source": [
    "documents = [\" \".join(doc) for doc in docs]"
   ]
  },
  {
   "cell_type": "code",
   "execution_count": 22,
   "id": "0efe2f8f",
   "metadata": {},
   "outputs": [
    {
     "data": {
      "text/plain": [
       "['qualiti nice',\n",
       " 'good',\n",
       " 'worth price',\n",
       " 'defect product',\n",
       " 'receiv wrong color',\n",
       " 'bad qualiti fabric']"
      ]
     },
     "execution_count": 22,
     "metadata": {},
     "output_type": "execute_result"
    }
   ],
   "source": [
    "documents"
   ]
  },
  {
   "cell_type": "code",
   "execution_count": 23,
   "id": "1963240f",
   "metadata": {},
   "outputs": [
    {
     "name": "stdout",
     "output_type": "stream",
     "text": [
      "{'qualiti': 8, 'nice': 5, 'good': 4, 'worth': 10, 'price': 6, 'defect': 2, 'product': 7, 'receiv': 9, 'wrong': 11, 'color': 1, 'bad': 0, 'fabric': 3}\n"
     ]
    }
   ],
   "source": [
    "vectorizer = CountVectorizer()\n",
    "vectorizer.fit(documents)\n",
    "print(vectorizer.vocabulary_)"
   ]
  },
  {
   "cell_type": "code",
   "execution_count": 26,
   "id": "c07aa58a",
   "metadata": {},
   "outputs": [
    {
     "name": "stdout",
     "output_type": "stream",
     "text": [
      "{8: 'qualiti', 5: 'nice', 4: 'good', 10: 'worth', 6: 'price', 2: 'defect', 7: 'product', 9: 'receiv', 11: 'wrong', 1: 'color', 0: 'bad', 3: 'fabric'}\n"
     ]
    }
   ],
   "source": [
    "inv_vocab = find_inverse_vocab(vectorizer.vocabulary_)\n",
    "print(inv_vocab)"
   ]
  },
  {
   "cell_type": "code",
   "execution_count": 24,
   "id": "e13a0e08",
   "metadata": {},
   "outputs": [
    {
     "name": "stdout",
     "output_type": "stream",
     "text": [
      "[[0 0 0 0 0 1 0 0 1 0 0 0]\n",
      " [0 0 0 0 1 0 0 0 0 0 0 0]\n",
      " [0 0 0 0 0 0 1 0 0 0 1 0]\n",
      " [0 0 1 0 0 0 0 1 0 0 0 0]\n",
      " [0 1 0 0 0 0 0 0 0 1 0 1]\n",
      " [1 0 0 1 0 0 0 0 1 0 0 0]]\n"
     ]
    }
   ],
   "source": [
    "features = vectorizer.transform(documents)\n",
    "print(features.toarray())"
   ]
  },
  {
   "cell_type": "code",
   "execution_count": 28,
   "id": "56907195",
   "metadata": {},
   "outputs": [],
   "source": [
    "import pandas as pd"
   ]
  },
  {
   "cell_type": "code",
   "execution_count": 29,
   "id": "f47c16e9",
   "metadata": {},
   "outputs": [
    {
     "data": {
      "text/html": [
       "<div>\n",
       "<style scoped>\n",
       "    .dataframe tbody tr th:only-of-type {\n",
       "        vertical-align: middle;\n",
       "    }\n",
       "\n",
       "    .dataframe tbody tr th {\n",
       "        vertical-align: top;\n",
       "    }\n",
       "\n",
       "    .dataframe thead th {\n",
       "        text-align: right;\n",
       "    }\n",
       "</style>\n",
       "<table border=\"1\" class=\"dataframe\">\n",
       "  <thead>\n",
       "    <tr style=\"text-align: right;\">\n",
       "      <th></th>\n",
       "      <th>bad</th>\n",
       "      <th>color</th>\n",
       "      <th>defect</th>\n",
       "      <th>fabric</th>\n",
       "      <th>good</th>\n",
       "      <th>nice</th>\n",
       "      <th>price</th>\n",
       "      <th>product</th>\n",
       "      <th>qualiti</th>\n",
       "      <th>receiv</th>\n",
       "      <th>worth</th>\n",
       "      <th>wrong</th>\n",
       "    </tr>\n",
       "  </thead>\n",
       "  <tbody>\n",
       "    <tr>\n",
       "      <th>0</th>\n",
       "      <td>0</td>\n",
       "      <td>0</td>\n",
       "      <td>0</td>\n",
       "      <td>0</td>\n",
       "      <td>0</td>\n",
       "      <td>1</td>\n",
       "      <td>0</td>\n",
       "      <td>0</td>\n",
       "      <td>1</td>\n",
       "      <td>0</td>\n",
       "      <td>0</td>\n",
       "      <td>0</td>\n",
       "    </tr>\n",
       "    <tr>\n",
       "      <th>1</th>\n",
       "      <td>0</td>\n",
       "      <td>0</td>\n",
       "      <td>0</td>\n",
       "      <td>0</td>\n",
       "      <td>1</td>\n",
       "      <td>0</td>\n",
       "      <td>0</td>\n",
       "      <td>0</td>\n",
       "      <td>0</td>\n",
       "      <td>0</td>\n",
       "      <td>0</td>\n",
       "      <td>0</td>\n",
       "    </tr>\n",
       "    <tr>\n",
       "      <th>2</th>\n",
       "      <td>0</td>\n",
       "      <td>0</td>\n",
       "      <td>0</td>\n",
       "      <td>0</td>\n",
       "      <td>0</td>\n",
       "      <td>0</td>\n",
       "      <td>1</td>\n",
       "      <td>0</td>\n",
       "      <td>0</td>\n",
       "      <td>0</td>\n",
       "      <td>1</td>\n",
       "      <td>0</td>\n",
       "    </tr>\n",
       "    <tr>\n",
       "      <th>3</th>\n",
       "      <td>0</td>\n",
       "      <td>0</td>\n",
       "      <td>1</td>\n",
       "      <td>0</td>\n",
       "      <td>0</td>\n",
       "      <td>0</td>\n",
       "      <td>0</td>\n",
       "      <td>1</td>\n",
       "      <td>0</td>\n",
       "      <td>0</td>\n",
       "      <td>0</td>\n",
       "      <td>0</td>\n",
       "    </tr>\n",
       "    <tr>\n",
       "      <th>4</th>\n",
       "      <td>0</td>\n",
       "      <td>1</td>\n",
       "      <td>0</td>\n",
       "      <td>0</td>\n",
       "      <td>0</td>\n",
       "      <td>0</td>\n",
       "      <td>0</td>\n",
       "      <td>0</td>\n",
       "      <td>0</td>\n",
       "      <td>1</td>\n",
       "      <td>0</td>\n",
       "      <td>1</td>\n",
       "    </tr>\n",
       "    <tr>\n",
       "      <th>5</th>\n",
       "      <td>1</td>\n",
       "      <td>0</td>\n",
       "      <td>0</td>\n",
       "      <td>1</td>\n",
       "      <td>0</td>\n",
       "      <td>0</td>\n",
       "      <td>0</td>\n",
       "      <td>0</td>\n",
       "      <td>1</td>\n",
       "      <td>0</td>\n",
       "      <td>0</td>\n",
       "      <td>0</td>\n",
       "    </tr>\n",
       "  </tbody>\n",
       "</table>\n",
       "</div>"
      ],
      "text/plain": [
       "   bad  color  defect  fabric  good  nice  price  product  qualiti  receiv  \\\n",
       "0    0      0       0       0     0     1      0        0        1       0   \n",
       "1    0      0       0       0     1     0      0        0        0       0   \n",
       "2    0      0       0       0     0     0      1        0        0       0   \n",
       "3    0      0       1       0     0     0      0        1        0       0   \n",
       "4    0      1       0       0     0     0      0        0        0       1   \n",
       "5    1      0       0       1     0     0      0        0        1       0   \n",
       "\n",
       "   worth  wrong  \n",
       "0      0      0  \n",
       "1      0      0  \n",
       "2      1      0  \n",
       "3      0      0  \n",
       "4      0      1  \n",
       "5      0      0  "
      ]
     },
     "execution_count": 29,
     "metadata": {},
     "output_type": "execute_result"
    }
   ],
   "source": [
    "featuresDf = pd.DataFrame(features.toarray())\n",
    "featuresDf.columns = [inv_vocab[index] for index in range(len(inv_vocab))]\n",
    "featuresDf.head(10)"
   ]
  },
  {
   "cell_type": "code",
   "execution_count": null,
   "id": "a68cb144",
   "metadata": {},
   "outputs": [],
   "source": [
    "we have converted each string into frequency of counts for each column\n",
    "what is each column?\n",
    "each column is basically a word from the vocabulary\n",
    "\n",
    "how vocabulary is made\n",
    "String1 = [w1, w2, w3]\n",
    "string2 = [w2, w5, w3]\n",
    "string3 = [w4, w3, w5]\n",
    "\n",
    "vocabulary = [w1, w2, w3, w4, w5]\n",
    "\n",
    "string1 = [1 1 1 0 0]\n",
    "string2 = [0 1 1 0 1]\n",
    "string3 = [0 0 1 1 1]"
   ]
  },
  {
   "cell_type": "code",
   "execution_count": null,
   "id": "12f13ba8",
   "metadata": {},
   "outputs": [],
   "source": [
    "Cosine Similarity\n",
    "\n",
    "string1 = [0, 1, 2, 3, 0, 4]\n",
    "string2 = [1, 2, 4, 0, 5, 8]\n",
    "\n",
    "each article/string will have a vector of same length\n",
    "\n",
    "cosine angle between two vectors\n",
    "\n",
    "cos = A . B / |A| |B|"
   ]
  },
  {
   "cell_type": "code",
   "execution_count": null,
   "id": "2d4fda1f",
   "metadata": {},
   "outputs": [],
   "source": [
    "vector1 = [s1, s2, s3]\n",
    "vector2 = [s4, s5, s6]\n",
    "\n",
    "dot product of vector1 and vector2 = s1*s4 + s2*s5 + s3*s6"
   ]
  }
 ],
 "metadata": {
  "kernelspec": {
   "display_name": "Python 3 (ipykernel)",
   "language": "python",
   "name": "python3"
  },
  "language_info": {
   "codemirror_mode": {
    "name": "ipython",
    "version": 3
   },
   "file_extension": ".py",
   "mimetype": "text/x-python",
   "name": "python",
   "nbconvert_exporter": "python",
   "pygments_lexer": "ipython3",
   "version": "3.10.0"
  }
 },
 "nbformat": 4,
 "nbformat_minor": 5
}
